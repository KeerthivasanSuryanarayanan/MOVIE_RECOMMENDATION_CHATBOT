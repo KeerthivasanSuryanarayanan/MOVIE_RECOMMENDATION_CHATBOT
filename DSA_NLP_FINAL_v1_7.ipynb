{
  "nbformat": 4,
  "nbformat_minor": 0,
  "metadata": {
    "colab": {
      "provenance": []
    },
    "kernelspec": {
      "name": "python3",
      "display_name": "Python 3"
    },
    "language_info": {
      "name": "python"
    }
  },
  "cells": [
    {
      "cell_type": "code",
      "execution_count": 417,
      "metadata": {
        "id": "1Sjt9lKb-Yln"
      },
      "outputs": [],
      "source": [
        "import pandas as pd\n",
        "import numpy as np\n",
        "\n",
        "df1 = pd.read_csv(\"Movies with Plots.csv\")\n",
        "df2 = pd.read_csv(\"ratings.csv\")"
      ]
    },
    {
      "cell_type": "code",
      "source": [
        "df1.head()"
      ],
      "metadata": {
        "colab": {
          "base_uri": "https://localhost:8080/",
          "height": 206
        },
        "id": "n9C_y8VX-so3",
        "outputId": "a64b41ce-f222-4fbf-ba0a-db5a94096ae4"
      },
      "execution_count": 418,
      "outputs": [
        {
          "output_type": "execute_result",
          "data": {
            "text/plain": [
              "   Unnamed: 0  movieId                               title  \\\n",
              "0           0        1                    Toy Story (1995)   \n",
              "1           1        2                      Jumanji (1995)   \n",
              "2           2        3             Grumpier Old Men (1995)   \n",
              "3           3        4            Waiting to Exhale (1995)   \n",
              "4           4        5  Father of the Bride Part II (1995)   \n",
              "\n",
              "                                        genres                   movie_name  \\\n",
              "0  Adventure|Animation|Children|Comedy|Fantasy                    Toy Story   \n",
              "1                   Adventure|Children|Fantasy                      Jumanji   \n",
              "2                               Comedy|Romance             Grumpier Old Men   \n",
              "3                         Comedy|Drama|Romance            Waiting to Exhale   \n",
              "4                                       Comedy  Father of the Bride Part II   \n",
              "\n",
              "                                                Plot  \n",
              "0  A little boy named Andy loves to be in his roo...  \n",
              "1  Jumanji, one of the most unique--and dangerous...  \n",
              "2  Things don't seem to change much in Wabasha Co...  \n",
              "3  This story based on the best selling novel by ...  \n",
              "4  In this sequel to \"Father of the Bride\", Georg...  "
            ],
            "text/html": [
              "\n",
              "  <div id=\"df-df5fe8a8-b020-423f-be1b-f8193db79a27\">\n",
              "    <div class=\"colab-df-container\">\n",
              "      <div>\n",
              "<style scoped>\n",
              "    .dataframe tbody tr th:only-of-type {\n",
              "        vertical-align: middle;\n",
              "    }\n",
              "\n",
              "    .dataframe tbody tr th {\n",
              "        vertical-align: top;\n",
              "    }\n",
              "\n",
              "    .dataframe thead th {\n",
              "        text-align: right;\n",
              "    }\n",
              "</style>\n",
              "<table border=\"1\" class=\"dataframe\">\n",
              "  <thead>\n",
              "    <tr style=\"text-align: right;\">\n",
              "      <th></th>\n",
              "      <th>Unnamed: 0</th>\n",
              "      <th>movieId</th>\n",
              "      <th>title</th>\n",
              "      <th>genres</th>\n",
              "      <th>movie_name</th>\n",
              "      <th>Plot</th>\n",
              "    </tr>\n",
              "  </thead>\n",
              "  <tbody>\n",
              "    <tr>\n",
              "      <th>0</th>\n",
              "      <td>0</td>\n",
              "      <td>1</td>\n",
              "      <td>Toy Story (1995)</td>\n",
              "      <td>Adventure|Animation|Children|Comedy|Fantasy</td>\n",
              "      <td>Toy Story</td>\n",
              "      <td>A little boy named Andy loves to be in his roo...</td>\n",
              "    </tr>\n",
              "    <tr>\n",
              "      <th>1</th>\n",
              "      <td>1</td>\n",
              "      <td>2</td>\n",
              "      <td>Jumanji (1995)</td>\n",
              "      <td>Adventure|Children|Fantasy</td>\n",
              "      <td>Jumanji</td>\n",
              "      <td>Jumanji, one of the most unique--and dangerous...</td>\n",
              "    </tr>\n",
              "    <tr>\n",
              "      <th>2</th>\n",
              "      <td>2</td>\n",
              "      <td>3</td>\n",
              "      <td>Grumpier Old Men (1995)</td>\n",
              "      <td>Comedy|Romance</td>\n",
              "      <td>Grumpier Old Men</td>\n",
              "      <td>Things don't seem to change much in Wabasha Co...</td>\n",
              "    </tr>\n",
              "    <tr>\n",
              "      <th>3</th>\n",
              "      <td>3</td>\n",
              "      <td>4</td>\n",
              "      <td>Waiting to Exhale (1995)</td>\n",
              "      <td>Comedy|Drama|Romance</td>\n",
              "      <td>Waiting to Exhale</td>\n",
              "      <td>This story based on the best selling novel by ...</td>\n",
              "    </tr>\n",
              "    <tr>\n",
              "      <th>4</th>\n",
              "      <td>4</td>\n",
              "      <td>5</td>\n",
              "      <td>Father of the Bride Part II (1995)</td>\n",
              "      <td>Comedy</td>\n",
              "      <td>Father of the Bride Part II</td>\n",
              "      <td>In this sequel to \"Father of the Bride\", Georg...</td>\n",
              "    </tr>\n",
              "  </tbody>\n",
              "</table>\n",
              "</div>\n",
              "      <button class=\"colab-df-convert\" onclick=\"convertToInteractive('df-df5fe8a8-b020-423f-be1b-f8193db79a27')\"\n",
              "              title=\"Convert this dataframe to an interactive table.\"\n",
              "              style=\"display:none;\">\n",
              "        \n",
              "  <svg xmlns=\"http://www.w3.org/2000/svg\" height=\"24px\"viewBox=\"0 0 24 24\"\n",
              "       width=\"24px\">\n",
              "    <path d=\"M0 0h24v24H0V0z\" fill=\"none\"/>\n",
              "    <path d=\"M18.56 5.44l.94 2.06.94-2.06 2.06-.94-2.06-.94-.94-2.06-.94 2.06-2.06.94zm-11 1L8.5 8.5l.94-2.06 2.06-.94-2.06-.94L8.5 2.5l-.94 2.06-2.06.94zm10 10l.94 2.06.94-2.06 2.06-.94-2.06-.94-.94-2.06-.94 2.06-2.06.94z\"/><path d=\"M17.41 7.96l-1.37-1.37c-.4-.4-.92-.59-1.43-.59-.52 0-1.04.2-1.43.59L10.3 9.45l-7.72 7.72c-.78.78-.78 2.05 0 2.83L4 21.41c.39.39.9.59 1.41.59.51 0 1.02-.2 1.41-.59l7.78-7.78 2.81-2.81c.8-.78.8-2.07 0-2.86zM5.41 20L4 18.59l7.72-7.72 1.47 1.35L5.41 20z\"/>\n",
              "  </svg>\n",
              "      </button>\n",
              "      \n",
              "  <style>\n",
              "    .colab-df-container {\n",
              "      display:flex;\n",
              "      flex-wrap:wrap;\n",
              "      gap: 12px;\n",
              "    }\n",
              "\n",
              "    .colab-df-convert {\n",
              "      background-color: #E8F0FE;\n",
              "      border: none;\n",
              "      border-radius: 50%;\n",
              "      cursor: pointer;\n",
              "      display: none;\n",
              "      fill: #1967D2;\n",
              "      height: 32px;\n",
              "      padding: 0 0 0 0;\n",
              "      width: 32px;\n",
              "    }\n",
              "\n",
              "    .colab-df-convert:hover {\n",
              "      background-color: #E2EBFA;\n",
              "      box-shadow: 0px 1px 2px rgba(60, 64, 67, 0.3), 0px 1px 3px 1px rgba(60, 64, 67, 0.15);\n",
              "      fill: #174EA6;\n",
              "    }\n",
              "\n",
              "    [theme=dark] .colab-df-convert {\n",
              "      background-color: #3B4455;\n",
              "      fill: #D2E3FC;\n",
              "    }\n",
              "\n",
              "    [theme=dark] .colab-df-convert:hover {\n",
              "      background-color: #434B5C;\n",
              "      box-shadow: 0px 1px 3px 1px rgba(0, 0, 0, 0.15);\n",
              "      filter: drop-shadow(0px 1px 2px rgba(0, 0, 0, 0.3));\n",
              "      fill: #FFFFFF;\n",
              "    }\n",
              "  </style>\n",
              "\n",
              "      <script>\n",
              "        const buttonEl =\n",
              "          document.querySelector('#df-df5fe8a8-b020-423f-be1b-f8193db79a27 button.colab-df-convert');\n",
              "        buttonEl.style.display =\n",
              "          google.colab.kernel.accessAllowed ? 'block' : 'none';\n",
              "\n",
              "        async function convertToInteractive(key) {\n",
              "          const element = document.querySelector('#df-df5fe8a8-b020-423f-be1b-f8193db79a27');\n",
              "          const dataTable =\n",
              "            await google.colab.kernel.invokeFunction('convertToInteractive',\n",
              "                                                     [key], {});\n",
              "          if (!dataTable) return;\n",
              "\n",
              "          const docLinkHtml = 'Like what you see? Visit the ' +\n",
              "            '<a target=\"_blank\" href=https://colab.research.google.com/notebooks/data_table.ipynb>data table notebook</a>'\n",
              "            + ' to learn more about interactive tables.';\n",
              "          element.innerHTML = '';\n",
              "          dataTable['output_type'] = 'display_data';\n",
              "          await google.colab.output.renderOutput(dataTable, element);\n",
              "          const docLink = document.createElement('div');\n",
              "          docLink.innerHTML = docLinkHtml;\n",
              "          element.appendChild(docLink);\n",
              "        }\n",
              "      </script>\n",
              "    </div>\n",
              "  </div>\n",
              "  "
            ]
          },
          "metadata": {},
          "execution_count": 418
        }
      ]
    },
    {
      "cell_type": "code",
      "source": [
        "df1.info()"
      ],
      "metadata": {
        "colab": {
          "base_uri": "https://localhost:8080/"
        },
        "id": "LeKwPkiV-zH-",
        "outputId": "85b7472b-d3b2-4b13-e491-a4c23a6b5e65"
      },
      "execution_count": 419,
      "outputs": [
        {
          "output_type": "stream",
          "name": "stdout",
          "text": [
            "<class 'pandas.core.frame.DataFrame'>\n",
            "RangeIndex: 9742 entries, 0 to 9741\n",
            "Data columns (total 6 columns):\n",
            " #   Column      Non-Null Count  Dtype \n",
            "---  ------      --------------  ----- \n",
            " 0   Unnamed: 0  9742 non-null   int64 \n",
            " 1   movieId     9742 non-null   int64 \n",
            " 2   title       9742 non-null   object\n",
            " 3   genres      9742 non-null   object\n",
            " 4   movie_name  9742 non-null   object\n",
            " 5   Plot        7855 non-null   object\n",
            "dtypes: int64(2), object(4)\n",
            "memory usage: 456.8+ KB\n"
          ]
        }
      ]
    },
    {
      "cell_type": "code",
      "source": [
        "df1.drop(columns='Unnamed: 0')"
      ],
      "metadata": {
        "colab": {
          "base_uri": "https://localhost:8080/",
          "height": 423
        },
        "id": "gfTOKmraCRmx",
        "outputId": "2e2e3931-294e-4d13-ec0a-9cfd1be54eaa"
      },
      "execution_count": 420,
      "outputs": [
        {
          "output_type": "execute_result",
          "data": {
            "text/plain": [
              "      movieId                                      title  \\\n",
              "0           1                           Toy Story (1995)   \n",
              "1           2                             Jumanji (1995)   \n",
              "2           3                    Grumpier Old Men (1995)   \n",
              "3           4                   Waiting to Exhale (1995)   \n",
              "4           5         Father of the Bride Part II (1995)   \n",
              "...       ...                                        ...   \n",
              "9737   193581  Black Butler: Book of the Atlantic (2017)   \n",
              "9738   193583               No Game No Life: Zero (2017)   \n",
              "9739   193585                               Flint (2017)   \n",
              "9740   193587        Bungo Stray Dogs: Dead Apple (2018)   \n",
              "9741   193609        Andrew Dice Clay: Dice Rules (1991)   \n",
              "\n",
              "                                           genres  \\\n",
              "0     Adventure|Animation|Children|Comedy|Fantasy   \n",
              "1                      Adventure|Children|Fantasy   \n",
              "2                                  Comedy|Romance   \n",
              "3                            Comedy|Drama|Romance   \n",
              "4                                          Comedy   \n",
              "...                                           ...   \n",
              "9737              Action|Animation|Comedy|Fantasy   \n",
              "9738                     Animation|Comedy|Fantasy   \n",
              "9739                                        Drama   \n",
              "9740                             Action|Animation   \n",
              "9741                                       Comedy   \n",
              "\n",
              "                              movie_name  \\\n",
              "0                              Toy Story   \n",
              "1                                Jumanji   \n",
              "2                       Grumpier Old Men   \n",
              "3                      Waiting to Exhale   \n",
              "4            Father of the Bride Part II   \n",
              "...                                  ...   \n",
              "9737  Black Butler: Book of the Atlantic   \n",
              "9738               No Game No Life: Zero   \n",
              "9739                               Flint   \n",
              "9740        Bungo Stray Dogs: Dead Apple   \n",
              "9741        Andrew Dice Clay: Dice Rules   \n",
              "\n",
              "                                                   Plot  \n",
              "0     A little boy named Andy loves to be in his roo...  \n",
              "1     Jumanji, one of the most unique--and dangerous...  \n",
              "2     Things don't seem to change much in Wabasha Co...  \n",
              "3     This story based on the best selling novel by ...  \n",
              "4     In this sequel to \"Father of the Bride\", Georg...  \n",
              "...                                                 ...  \n",
              "9737  Whispers turn into screaming headlines in Earl...  \n",
              "9738  The Movie following the light novel series by ...  \n",
              "9739  A woman deals with the toxic water scandal in ...  \n",
              "9740  Rivalry between groups of criminals and detect...  \n",
              "9741                                                NaN  \n",
              "\n",
              "[9742 rows x 5 columns]"
            ],
            "text/html": [
              "\n",
              "  <div id=\"df-1883a6a5-d2b9-46a8-93b2-7aaff08f21ee\">\n",
              "    <div class=\"colab-df-container\">\n",
              "      <div>\n",
              "<style scoped>\n",
              "    .dataframe tbody tr th:only-of-type {\n",
              "        vertical-align: middle;\n",
              "    }\n",
              "\n",
              "    .dataframe tbody tr th {\n",
              "        vertical-align: top;\n",
              "    }\n",
              "\n",
              "    .dataframe thead th {\n",
              "        text-align: right;\n",
              "    }\n",
              "</style>\n",
              "<table border=\"1\" class=\"dataframe\">\n",
              "  <thead>\n",
              "    <tr style=\"text-align: right;\">\n",
              "      <th></th>\n",
              "      <th>movieId</th>\n",
              "      <th>title</th>\n",
              "      <th>genres</th>\n",
              "      <th>movie_name</th>\n",
              "      <th>Plot</th>\n",
              "    </tr>\n",
              "  </thead>\n",
              "  <tbody>\n",
              "    <tr>\n",
              "      <th>0</th>\n",
              "      <td>1</td>\n",
              "      <td>Toy Story (1995)</td>\n",
              "      <td>Adventure|Animation|Children|Comedy|Fantasy</td>\n",
              "      <td>Toy Story</td>\n",
              "      <td>A little boy named Andy loves to be in his roo...</td>\n",
              "    </tr>\n",
              "    <tr>\n",
              "      <th>1</th>\n",
              "      <td>2</td>\n",
              "      <td>Jumanji (1995)</td>\n",
              "      <td>Adventure|Children|Fantasy</td>\n",
              "      <td>Jumanji</td>\n",
              "      <td>Jumanji, one of the most unique--and dangerous...</td>\n",
              "    </tr>\n",
              "    <tr>\n",
              "      <th>2</th>\n",
              "      <td>3</td>\n",
              "      <td>Grumpier Old Men (1995)</td>\n",
              "      <td>Comedy|Romance</td>\n",
              "      <td>Grumpier Old Men</td>\n",
              "      <td>Things don't seem to change much in Wabasha Co...</td>\n",
              "    </tr>\n",
              "    <tr>\n",
              "      <th>3</th>\n",
              "      <td>4</td>\n",
              "      <td>Waiting to Exhale (1995)</td>\n",
              "      <td>Comedy|Drama|Romance</td>\n",
              "      <td>Waiting to Exhale</td>\n",
              "      <td>This story based on the best selling novel by ...</td>\n",
              "    </tr>\n",
              "    <tr>\n",
              "      <th>4</th>\n",
              "      <td>5</td>\n",
              "      <td>Father of the Bride Part II (1995)</td>\n",
              "      <td>Comedy</td>\n",
              "      <td>Father of the Bride Part II</td>\n",
              "      <td>In this sequel to \"Father of the Bride\", Georg...</td>\n",
              "    </tr>\n",
              "    <tr>\n",
              "      <th>...</th>\n",
              "      <td>...</td>\n",
              "      <td>...</td>\n",
              "      <td>...</td>\n",
              "      <td>...</td>\n",
              "      <td>...</td>\n",
              "    </tr>\n",
              "    <tr>\n",
              "      <th>9737</th>\n",
              "      <td>193581</td>\n",
              "      <td>Black Butler: Book of the Atlantic (2017)</td>\n",
              "      <td>Action|Animation|Comedy|Fantasy</td>\n",
              "      <td>Black Butler: Book of the Atlantic</td>\n",
              "      <td>Whispers turn into screaming headlines in Earl...</td>\n",
              "    </tr>\n",
              "    <tr>\n",
              "      <th>9738</th>\n",
              "      <td>193583</td>\n",
              "      <td>No Game No Life: Zero (2017)</td>\n",
              "      <td>Animation|Comedy|Fantasy</td>\n",
              "      <td>No Game No Life: Zero</td>\n",
              "      <td>The Movie following the light novel series by ...</td>\n",
              "    </tr>\n",
              "    <tr>\n",
              "      <th>9739</th>\n",
              "      <td>193585</td>\n",
              "      <td>Flint (2017)</td>\n",
              "      <td>Drama</td>\n",
              "      <td>Flint</td>\n",
              "      <td>A woman deals with the toxic water scandal in ...</td>\n",
              "    </tr>\n",
              "    <tr>\n",
              "      <th>9740</th>\n",
              "      <td>193587</td>\n",
              "      <td>Bungo Stray Dogs: Dead Apple (2018)</td>\n",
              "      <td>Action|Animation</td>\n",
              "      <td>Bungo Stray Dogs: Dead Apple</td>\n",
              "      <td>Rivalry between groups of criminals and detect...</td>\n",
              "    </tr>\n",
              "    <tr>\n",
              "      <th>9741</th>\n",
              "      <td>193609</td>\n",
              "      <td>Andrew Dice Clay: Dice Rules (1991)</td>\n",
              "      <td>Comedy</td>\n",
              "      <td>Andrew Dice Clay: Dice Rules</td>\n",
              "      <td>NaN</td>\n",
              "    </tr>\n",
              "  </tbody>\n",
              "</table>\n",
              "<p>9742 rows × 5 columns</p>\n",
              "</div>\n",
              "      <button class=\"colab-df-convert\" onclick=\"convertToInteractive('df-1883a6a5-d2b9-46a8-93b2-7aaff08f21ee')\"\n",
              "              title=\"Convert this dataframe to an interactive table.\"\n",
              "              style=\"display:none;\">\n",
              "        \n",
              "  <svg xmlns=\"http://www.w3.org/2000/svg\" height=\"24px\"viewBox=\"0 0 24 24\"\n",
              "       width=\"24px\">\n",
              "    <path d=\"M0 0h24v24H0V0z\" fill=\"none\"/>\n",
              "    <path d=\"M18.56 5.44l.94 2.06.94-2.06 2.06-.94-2.06-.94-.94-2.06-.94 2.06-2.06.94zm-11 1L8.5 8.5l.94-2.06 2.06-.94-2.06-.94L8.5 2.5l-.94 2.06-2.06.94zm10 10l.94 2.06.94-2.06 2.06-.94-2.06-.94-.94-2.06-.94 2.06-2.06.94z\"/><path d=\"M17.41 7.96l-1.37-1.37c-.4-.4-.92-.59-1.43-.59-.52 0-1.04.2-1.43.59L10.3 9.45l-7.72 7.72c-.78.78-.78 2.05 0 2.83L4 21.41c.39.39.9.59 1.41.59.51 0 1.02-.2 1.41-.59l7.78-7.78 2.81-2.81c.8-.78.8-2.07 0-2.86zM5.41 20L4 18.59l7.72-7.72 1.47 1.35L5.41 20z\"/>\n",
              "  </svg>\n",
              "      </button>\n",
              "      \n",
              "  <style>\n",
              "    .colab-df-container {\n",
              "      display:flex;\n",
              "      flex-wrap:wrap;\n",
              "      gap: 12px;\n",
              "    }\n",
              "\n",
              "    .colab-df-convert {\n",
              "      background-color: #E8F0FE;\n",
              "      border: none;\n",
              "      border-radius: 50%;\n",
              "      cursor: pointer;\n",
              "      display: none;\n",
              "      fill: #1967D2;\n",
              "      height: 32px;\n",
              "      padding: 0 0 0 0;\n",
              "      width: 32px;\n",
              "    }\n",
              "\n",
              "    .colab-df-convert:hover {\n",
              "      background-color: #E2EBFA;\n",
              "      box-shadow: 0px 1px 2px rgba(60, 64, 67, 0.3), 0px 1px 3px 1px rgba(60, 64, 67, 0.15);\n",
              "      fill: #174EA6;\n",
              "    }\n",
              "\n",
              "    [theme=dark] .colab-df-convert {\n",
              "      background-color: #3B4455;\n",
              "      fill: #D2E3FC;\n",
              "    }\n",
              "\n",
              "    [theme=dark] .colab-df-convert:hover {\n",
              "      background-color: #434B5C;\n",
              "      box-shadow: 0px 1px 3px 1px rgba(0, 0, 0, 0.15);\n",
              "      filter: drop-shadow(0px 1px 2px rgba(0, 0, 0, 0.3));\n",
              "      fill: #FFFFFF;\n",
              "    }\n",
              "  </style>\n",
              "\n",
              "      <script>\n",
              "        const buttonEl =\n",
              "          document.querySelector('#df-1883a6a5-d2b9-46a8-93b2-7aaff08f21ee button.colab-df-convert');\n",
              "        buttonEl.style.display =\n",
              "          google.colab.kernel.accessAllowed ? 'block' : 'none';\n",
              "\n",
              "        async function convertToInteractive(key) {\n",
              "          const element = document.querySelector('#df-1883a6a5-d2b9-46a8-93b2-7aaff08f21ee');\n",
              "          const dataTable =\n",
              "            await google.colab.kernel.invokeFunction('convertToInteractive',\n",
              "                                                     [key], {});\n",
              "          if (!dataTable) return;\n",
              "\n",
              "          const docLinkHtml = 'Like what you see? Visit the ' +\n",
              "            '<a target=\"_blank\" href=https://colab.research.google.com/notebooks/data_table.ipynb>data table notebook</a>'\n",
              "            + ' to learn more about interactive tables.';\n",
              "          element.innerHTML = '';\n",
              "          dataTable['output_type'] = 'display_data';\n",
              "          await google.colab.output.renderOutput(dataTable, element);\n",
              "          const docLink = document.createElement('div');\n",
              "          docLink.innerHTML = docLinkHtml;\n",
              "          element.appendChild(docLink);\n",
              "        }\n",
              "      </script>\n",
              "    </div>\n",
              "  </div>\n",
              "  "
            ]
          },
          "metadata": {},
          "execution_count": 420
        }
      ]
    },
    {
      "cell_type": "code",
      "source": [
        "df2.info()"
      ],
      "metadata": {
        "colab": {
          "base_uri": "https://localhost:8080/"
        },
        "id": "KShqOiWJC8jb",
        "outputId": "6f2133e8-ee99-4fa8-d4a3-66f5118cde54"
      },
      "execution_count": 421,
      "outputs": [
        {
          "output_type": "stream",
          "name": "stdout",
          "text": [
            "<class 'pandas.core.frame.DataFrame'>\n",
            "RangeIndex: 100836 entries, 0 to 100835\n",
            "Data columns (total 4 columns):\n",
            " #   Column     Non-Null Count   Dtype  \n",
            "---  ------     --------------   -----  \n",
            " 0   userId     100836 non-null  int64  \n",
            " 1   movieId    100836 non-null  int64  \n",
            " 2   rating     100836 non-null  float64\n",
            " 3   timestamp  100836 non-null  int64  \n",
            "dtypes: float64(1), int64(3)\n",
            "memory usage: 3.1 MB\n"
          ]
        }
      ]
    },
    {
      "cell_type": "code",
      "source": [
        "df = pd.merge(df1, df2, on='movieId', how='right')\n",
        "df.info()"
      ],
      "metadata": {
        "colab": {
          "base_uri": "https://localhost:8080/"
        },
        "id": "ZnG1jdXLCsJa",
        "outputId": "8de1953a-c809-4a41-c4d5-9973d7c3cd60"
      },
      "execution_count": 422,
      "outputs": [
        {
          "output_type": "stream",
          "name": "stdout",
          "text": [
            "<class 'pandas.core.frame.DataFrame'>\n",
            "Int64Index: 100836 entries, 0 to 100835\n",
            "Data columns (total 9 columns):\n",
            " #   Column      Non-Null Count   Dtype  \n",
            "---  ------      --------------   -----  \n",
            " 0   Unnamed: 0  100836 non-null  int64  \n",
            " 1   movieId     100836 non-null  int64  \n",
            " 2   title       100836 non-null  object \n",
            " 3   genres      100836 non-null  object \n",
            " 4   movie_name  100836 non-null  object \n",
            " 5   Plot        83447 non-null   object \n",
            " 6   userId      100836 non-null  int64  \n",
            " 7   rating      100836 non-null  float64\n",
            " 8   timestamp   100836 non-null  int64  \n",
            "dtypes: float64(1), int64(4), object(4)\n",
            "memory usage: 7.7+ MB\n"
          ]
        }
      ]
    },
    {
      "cell_type": "code",
      "source": [
        "df.drop(columns={'Unnamed: 0', 'timestamp'})"
      ],
      "metadata": {
        "colab": {
          "base_uri": "https://localhost:8080/",
          "height": 423
        },
        "id": "0-1rw7p0Dvn2",
        "outputId": "0cd78106-b3d0-4ef6-e723-5fa2f2902320"
      },
      "execution_count": 423,
      "outputs": [
        {
          "output_type": "execute_result",
          "data": {
            "text/plain": [
              "        movieId                           title  \\\n",
              "0             1                Toy Story (1995)   \n",
              "1             3         Grumpier Old Men (1995)   \n",
              "2             6                     Heat (1995)   \n",
              "3            47     Seven (a.k.a. Se7en) (1995)   \n",
              "4            50      Usual Suspects, The (1995)   \n",
              "...         ...                             ...   \n",
              "100831   166534                    Split (2017)   \n",
              "100832   168248   John Wick: Chapter Two (2017)   \n",
              "100833   168250                  Get Out (2017)   \n",
              "100834   168252                    Logan (2017)   \n",
              "100835   170875  The Fate of the Furious (2017)   \n",
              "\n",
              "                                             genres               movie_name  \\\n",
              "0       Adventure|Animation|Children|Comedy|Fantasy                Toy Story   \n",
              "1                                    Comedy|Romance         Grumpier Old Men   \n",
              "2                             Action|Crime|Thriller                     Heat   \n",
              "3                                  Mystery|Thriller                    Seven   \n",
              "4                            Crime|Mystery|Thriller      Usual Suspects, The   \n",
              "...                                             ...                      ...   \n",
              "100831                        Drama|Horror|Thriller                    Split   \n",
              "100832                        Action|Crime|Thriller   John Wick: Chapter Two   \n",
              "100833                                       Horror                  Get Out   \n",
              "100834                                Action|Sci-Fi                    Logan   \n",
              "100835                  Action|Crime|Drama|Thriller  The Fate of the Furious   \n",
              "\n",
              "                                                     Plot  userId  rating  \n",
              "0       A little boy named Andy loves to be in his roo...       1     4.0  \n",
              "1       Things don't seem to change much in Wabasha Co...       1     4.0  \n",
              "2       Hunters and their prey--Neil and his professio...       1     4.0  \n",
              "3       A veteran samurai, who has fallen on hard time...       1     5.0  \n",
              "4                                                     NaN       1     5.0  \n",
              "...                                                   ...     ...     ...  \n",
              "100831  Though Kevin (James McAvoy) has evidenced 23 p...     610     4.0  \n",
              "100832                                                NaN     610     5.0  \n",
              "100833  Chris and his girlfriend Rose go upstate to vi...     610     5.0  \n",
              "100834  In 2029 the mutant population has shrunken sig...     610     5.0  \n",
              "100835  Now that Dominic Toretto (Vin Diesel) and Lett...     610     3.0  \n",
              "\n",
              "[100836 rows x 7 columns]"
            ],
            "text/html": [
              "\n",
              "  <div id=\"df-893f38a8-a8bc-48de-ad7e-7b43bf223827\">\n",
              "    <div class=\"colab-df-container\">\n",
              "      <div>\n",
              "<style scoped>\n",
              "    .dataframe tbody tr th:only-of-type {\n",
              "        vertical-align: middle;\n",
              "    }\n",
              "\n",
              "    .dataframe tbody tr th {\n",
              "        vertical-align: top;\n",
              "    }\n",
              "\n",
              "    .dataframe thead th {\n",
              "        text-align: right;\n",
              "    }\n",
              "</style>\n",
              "<table border=\"1\" class=\"dataframe\">\n",
              "  <thead>\n",
              "    <tr style=\"text-align: right;\">\n",
              "      <th></th>\n",
              "      <th>movieId</th>\n",
              "      <th>title</th>\n",
              "      <th>genres</th>\n",
              "      <th>movie_name</th>\n",
              "      <th>Plot</th>\n",
              "      <th>userId</th>\n",
              "      <th>rating</th>\n",
              "    </tr>\n",
              "  </thead>\n",
              "  <tbody>\n",
              "    <tr>\n",
              "      <th>0</th>\n",
              "      <td>1</td>\n",
              "      <td>Toy Story (1995)</td>\n",
              "      <td>Adventure|Animation|Children|Comedy|Fantasy</td>\n",
              "      <td>Toy Story</td>\n",
              "      <td>A little boy named Andy loves to be in his roo...</td>\n",
              "      <td>1</td>\n",
              "      <td>4.0</td>\n",
              "    </tr>\n",
              "    <tr>\n",
              "      <th>1</th>\n",
              "      <td>3</td>\n",
              "      <td>Grumpier Old Men (1995)</td>\n",
              "      <td>Comedy|Romance</td>\n",
              "      <td>Grumpier Old Men</td>\n",
              "      <td>Things don't seem to change much in Wabasha Co...</td>\n",
              "      <td>1</td>\n",
              "      <td>4.0</td>\n",
              "    </tr>\n",
              "    <tr>\n",
              "      <th>2</th>\n",
              "      <td>6</td>\n",
              "      <td>Heat (1995)</td>\n",
              "      <td>Action|Crime|Thriller</td>\n",
              "      <td>Heat</td>\n",
              "      <td>Hunters and their prey--Neil and his professio...</td>\n",
              "      <td>1</td>\n",
              "      <td>4.0</td>\n",
              "    </tr>\n",
              "    <tr>\n",
              "      <th>3</th>\n",
              "      <td>47</td>\n",
              "      <td>Seven (a.k.a. Se7en) (1995)</td>\n",
              "      <td>Mystery|Thriller</td>\n",
              "      <td>Seven</td>\n",
              "      <td>A veteran samurai, who has fallen on hard time...</td>\n",
              "      <td>1</td>\n",
              "      <td>5.0</td>\n",
              "    </tr>\n",
              "    <tr>\n",
              "      <th>4</th>\n",
              "      <td>50</td>\n",
              "      <td>Usual Suspects, The (1995)</td>\n",
              "      <td>Crime|Mystery|Thriller</td>\n",
              "      <td>Usual Suspects, The</td>\n",
              "      <td>NaN</td>\n",
              "      <td>1</td>\n",
              "      <td>5.0</td>\n",
              "    </tr>\n",
              "    <tr>\n",
              "      <th>...</th>\n",
              "      <td>...</td>\n",
              "      <td>...</td>\n",
              "      <td>...</td>\n",
              "      <td>...</td>\n",
              "      <td>...</td>\n",
              "      <td>...</td>\n",
              "      <td>...</td>\n",
              "    </tr>\n",
              "    <tr>\n",
              "      <th>100831</th>\n",
              "      <td>166534</td>\n",
              "      <td>Split (2017)</td>\n",
              "      <td>Drama|Horror|Thriller</td>\n",
              "      <td>Split</td>\n",
              "      <td>Though Kevin (James McAvoy) has evidenced 23 p...</td>\n",
              "      <td>610</td>\n",
              "      <td>4.0</td>\n",
              "    </tr>\n",
              "    <tr>\n",
              "      <th>100832</th>\n",
              "      <td>168248</td>\n",
              "      <td>John Wick: Chapter Two (2017)</td>\n",
              "      <td>Action|Crime|Thriller</td>\n",
              "      <td>John Wick: Chapter Two</td>\n",
              "      <td>NaN</td>\n",
              "      <td>610</td>\n",
              "      <td>5.0</td>\n",
              "    </tr>\n",
              "    <tr>\n",
              "      <th>100833</th>\n",
              "      <td>168250</td>\n",
              "      <td>Get Out (2017)</td>\n",
              "      <td>Horror</td>\n",
              "      <td>Get Out</td>\n",
              "      <td>Chris and his girlfriend Rose go upstate to vi...</td>\n",
              "      <td>610</td>\n",
              "      <td>5.0</td>\n",
              "    </tr>\n",
              "    <tr>\n",
              "      <th>100834</th>\n",
              "      <td>168252</td>\n",
              "      <td>Logan (2017)</td>\n",
              "      <td>Action|Sci-Fi</td>\n",
              "      <td>Logan</td>\n",
              "      <td>In 2029 the mutant population has shrunken sig...</td>\n",
              "      <td>610</td>\n",
              "      <td>5.0</td>\n",
              "    </tr>\n",
              "    <tr>\n",
              "      <th>100835</th>\n",
              "      <td>170875</td>\n",
              "      <td>The Fate of the Furious (2017)</td>\n",
              "      <td>Action|Crime|Drama|Thriller</td>\n",
              "      <td>The Fate of the Furious</td>\n",
              "      <td>Now that Dominic Toretto (Vin Diesel) and Lett...</td>\n",
              "      <td>610</td>\n",
              "      <td>3.0</td>\n",
              "    </tr>\n",
              "  </tbody>\n",
              "</table>\n",
              "<p>100836 rows × 7 columns</p>\n",
              "</div>\n",
              "      <button class=\"colab-df-convert\" onclick=\"convertToInteractive('df-893f38a8-a8bc-48de-ad7e-7b43bf223827')\"\n",
              "              title=\"Convert this dataframe to an interactive table.\"\n",
              "              style=\"display:none;\">\n",
              "        \n",
              "  <svg xmlns=\"http://www.w3.org/2000/svg\" height=\"24px\"viewBox=\"0 0 24 24\"\n",
              "       width=\"24px\">\n",
              "    <path d=\"M0 0h24v24H0V0z\" fill=\"none\"/>\n",
              "    <path d=\"M18.56 5.44l.94 2.06.94-2.06 2.06-.94-2.06-.94-.94-2.06-.94 2.06-2.06.94zm-11 1L8.5 8.5l.94-2.06 2.06-.94-2.06-.94L8.5 2.5l-.94 2.06-2.06.94zm10 10l.94 2.06.94-2.06 2.06-.94-2.06-.94-.94-2.06-.94 2.06-2.06.94z\"/><path d=\"M17.41 7.96l-1.37-1.37c-.4-.4-.92-.59-1.43-.59-.52 0-1.04.2-1.43.59L10.3 9.45l-7.72 7.72c-.78.78-.78 2.05 0 2.83L4 21.41c.39.39.9.59 1.41.59.51 0 1.02-.2 1.41-.59l7.78-7.78 2.81-2.81c.8-.78.8-2.07 0-2.86zM5.41 20L4 18.59l7.72-7.72 1.47 1.35L5.41 20z\"/>\n",
              "  </svg>\n",
              "      </button>\n",
              "      \n",
              "  <style>\n",
              "    .colab-df-container {\n",
              "      display:flex;\n",
              "      flex-wrap:wrap;\n",
              "      gap: 12px;\n",
              "    }\n",
              "\n",
              "    .colab-df-convert {\n",
              "      background-color: #E8F0FE;\n",
              "      border: none;\n",
              "      border-radius: 50%;\n",
              "      cursor: pointer;\n",
              "      display: none;\n",
              "      fill: #1967D2;\n",
              "      height: 32px;\n",
              "      padding: 0 0 0 0;\n",
              "      width: 32px;\n",
              "    }\n",
              "\n",
              "    .colab-df-convert:hover {\n",
              "      background-color: #E2EBFA;\n",
              "      box-shadow: 0px 1px 2px rgba(60, 64, 67, 0.3), 0px 1px 3px 1px rgba(60, 64, 67, 0.15);\n",
              "      fill: #174EA6;\n",
              "    }\n",
              "\n",
              "    [theme=dark] .colab-df-convert {\n",
              "      background-color: #3B4455;\n",
              "      fill: #D2E3FC;\n",
              "    }\n",
              "\n",
              "    [theme=dark] .colab-df-convert:hover {\n",
              "      background-color: #434B5C;\n",
              "      box-shadow: 0px 1px 3px 1px rgba(0, 0, 0, 0.15);\n",
              "      filter: drop-shadow(0px 1px 2px rgba(0, 0, 0, 0.3));\n",
              "      fill: #FFFFFF;\n",
              "    }\n",
              "  </style>\n",
              "\n",
              "      <script>\n",
              "        const buttonEl =\n",
              "          document.querySelector('#df-893f38a8-a8bc-48de-ad7e-7b43bf223827 button.colab-df-convert');\n",
              "        buttonEl.style.display =\n",
              "          google.colab.kernel.accessAllowed ? 'block' : 'none';\n",
              "\n",
              "        async function convertToInteractive(key) {\n",
              "          const element = document.querySelector('#df-893f38a8-a8bc-48de-ad7e-7b43bf223827');\n",
              "          const dataTable =\n",
              "            await google.colab.kernel.invokeFunction('convertToInteractive',\n",
              "                                                     [key], {});\n",
              "          if (!dataTable) return;\n",
              "\n",
              "          const docLinkHtml = 'Like what you see? Visit the ' +\n",
              "            '<a target=\"_blank\" href=https://colab.research.google.com/notebooks/data_table.ipynb>data table notebook</a>'\n",
              "            + ' to learn more about interactive tables.';\n",
              "          element.innerHTML = '';\n",
              "          dataTable['output_type'] = 'display_data';\n",
              "          await google.colab.output.renderOutput(dataTable, element);\n",
              "          const docLink = document.createElement('div');\n",
              "          docLink.innerHTML = docLinkHtml;\n",
              "          element.appendChild(docLink);\n",
              "        }\n",
              "      </script>\n",
              "    </div>\n",
              "  </div>\n",
              "  "
            ]
          },
          "metadata": {},
          "execution_count": 423
        }
      ]
    },
    {
      "cell_type": "code",
      "source": [
        "df.dropna(subset=['Plot'], inplace=True)"
      ],
      "metadata": {
        "id": "l0Py0-_8EoqX"
      },
      "execution_count": 424,
      "outputs": []
    },
    {
      "cell_type": "code",
      "source": [
        "df.drop(['Unnamed: 0', 'timestamp'], axis=1, inplace=True)\n",
        "df.info()"
      ],
      "metadata": {
        "colab": {
          "base_uri": "https://localhost:8080/"
        },
        "id": "7qyNxhZFEqbW",
        "outputId": "ad1ececb-ab96-4d30-e341-9902983e0ec6"
      },
      "execution_count": 425,
      "outputs": [
        {
          "output_type": "stream",
          "name": "stdout",
          "text": [
            "<class 'pandas.core.frame.DataFrame'>\n",
            "Int64Index: 83447 entries, 0 to 100835\n",
            "Data columns (total 7 columns):\n",
            " #   Column      Non-Null Count  Dtype  \n",
            "---  ------      --------------  -----  \n",
            " 0   movieId     83447 non-null  int64  \n",
            " 1   title       83447 non-null  object \n",
            " 2   genres      83447 non-null  object \n",
            " 3   movie_name  83447 non-null  object \n",
            " 4   Plot        83447 non-null  object \n",
            " 5   userId      83447 non-null  int64  \n",
            " 6   rating      83447 non-null  float64\n",
            "dtypes: float64(1), int64(2), object(4)\n",
            "memory usage: 5.1+ MB\n"
          ]
        }
      ]
    },
    {
      "cell_type": "code",
      "source": [
        "df.head()"
      ],
      "metadata": {
        "colab": {
          "base_uri": "https://localhost:8080/",
          "height": 206
        },
        "id": "Eqnp8dFA82Gi",
        "outputId": "c9f1c8bf-e680-4809-9725-ffa238f864d5"
      },
      "execution_count": 426,
      "outputs": [
        {
          "output_type": "execute_result",
          "data": {
            "text/plain": [
              "   movieId                        title  \\\n",
              "0        1             Toy Story (1995)   \n",
              "1        3      Grumpier Old Men (1995)   \n",
              "2        6                  Heat (1995)   \n",
              "3       47  Seven (a.k.a. Se7en) (1995)   \n",
              "5       70   From Dusk Till Dawn (1996)   \n",
              "\n",
              "                                        genres           movie_name  \\\n",
              "0  Adventure|Animation|Children|Comedy|Fantasy            Toy Story   \n",
              "1                               Comedy|Romance     Grumpier Old Men   \n",
              "2                        Action|Crime|Thriller                 Heat   \n",
              "3                             Mystery|Thriller                Seven   \n",
              "5                Action|Comedy|Horror|Thriller  From Dusk Till Dawn   \n",
              "\n",
              "                                                Plot  userId  rating  \n",
              "0  A little boy named Andy loves to be in his roo...       1     4.0  \n",
              "1  Things don't seem to change much in Wabasha Co...       1     4.0  \n",
              "2  Hunters and their prey--Neil and his professio...       1     4.0  \n",
              "3  A veteran samurai, who has fallen on hard time...       1     5.0  \n",
              "5  After a bank heist in Abilene with several cas...       1     3.0  "
            ],
            "text/html": [
              "\n",
              "  <div id=\"df-3a936504-a93a-4aab-89d5-74332ebbc6d2\">\n",
              "    <div class=\"colab-df-container\">\n",
              "      <div>\n",
              "<style scoped>\n",
              "    .dataframe tbody tr th:only-of-type {\n",
              "        vertical-align: middle;\n",
              "    }\n",
              "\n",
              "    .dataframe tbody tr th {\n",
              "        vertical-align: top;\n",
              "    }\n",
              "\n",
              "    .dataframe thead th {\n",
              "        text-align: right;\n",
              "    }\n",
              "</style>\n",
              "<table border=\"1\" class=\"dataframe\">\n",
              "  <thead>\n",
              "    <tr style=\"text-align: right;\">\n",
              "      <th></th>\n",
              "      <th>movieId</th>\n",
              "      <th>title</th>\n",
              "      <th>genres</th>\n",
              "      <th>movie_name</th>\n",
              "      <th>Plot</th>\n",
              "      <th>userId</th>\n",
              "      <th>rating</th>\n",
              "    </tr>\n",
              "  </thead>\n",
              "  <tbody>\n",
              "    <tr>\n",
              "      <th>0</th>\n",
              "      <td>1</td>\n",
              "      <td>Toy Story (1995)</td>\n",
              "      <td>Adventure|Animation|Children|Comedy|Fantasy</td>\n",
              "      <td>Toy Story</td>\n",
              "      <td>A little boy named Andy loves to be in his roo...</td>\n",
              "      <td>1</td>\n",
              "      <td>4.0</td>\n",
              "    </tr>\n",
              "    <tr>\n",
              "      <th>1</th>\n",
              "      <td>3</td>\n",
              "      <td>Grumpier Old Men (1995)</td>\n",
              "      <td>Comedy|Romance</td>\n",
              "      <td>Grumpier Old Men</td>\n",
              "      <td>Things don't seem to change much in Wabasha Co...</td>\n",
              "      <td>1</td>\n",
              "      <td>4.0</td>\n",
              "    </tr>\n",
              "    <tr>\n",
              "      <th>2</th>\n",
              "      <td>6</td>\n",
              "      <td>Heat (1995)</td>\n",
              "      <td>Action|Crime|Thriller</td>\n",
              "      <td>Heat</td>\n",
              "      <td>Hunters and their prey--Neil and his professio...</td>\n",
              "      <td>1</td>\n",
              "      <td>4.0</td>\n",
              "    </tr>\n",
              "    <tr>\n",
              "      <th>3</th>\n",
              "      <td>47</td>\n",
              "      <td>Seven (a.k.a. Se7en) (1995)</td>\n",
              "      <td>Mystery|Thriller</td>\n",
              "      <td>Seven</td>\n",
              "      <td>A veteran samurai, who has fallen on hard time...</td>\n",
              "      <td>1</td>\n",
              "      <td>5.0</td>\n",
              "    </tr>\n",
              "    <tr>\n",
              "      <th>5</th>\n",
              "      <td>70</td>\n",
              "      <td>From Dusk Till Dawn (1996)</td>\n",
              "      <td>Action|Comedy|Horror|Thriller</td>\n",
              "      <td>From Dusk Till Dawn</td>\n",
              "      <td>After a bank heist in Abilene with several cas...</td>\n",
              "      <td>1</td>\n",
              "      <td>3.0</td>\n",
              "    </tr>\n",
              "  </tbody>\n",
              "</table>\n",
              "</div>\n",
              "      <button class=\"colab-df-convert\" onclick=\"convertToInteractive('df-3a936504-a93a-4aab-89d5-74332ebbc6d2')\"\n",
              "              title=\"Convert this dataframe to an interactive table.\"\n",
              "              style=\"display:none;\">\n",
              "        \n",
              "  <svg xmlns=\"http://www.w3.org/2000/svg\" height=\"24px\"viewBox=\"0 0 24 24\"\n",
              "       width=\"24px\">\n",
              "    <path d=\"M0 0h24v24H0V0z\" fill=\"none\"/>\n",
              "    <path d=\"M18.56 5.44l.94 2.06.94-2.06 2.06-.94-2.06-.94-.94-2.06-.94 2.06-2.06.94zm-11 1L8.5 8.5l.94-2.06 2.06-.94-2.06-.94L8.5 2.5l-.94 2.06-2.06.94zm10 10l.94 2.06.94-2.06 2.06-.94-2.06-.94-.94-2.06-.94 2.06-2.06.94z\"/><path d=\"M17.41 7.96l-1.37-1.37c-.4-.4-.92-.59-1.43-.59-.52 0-1.04.2-1.43.59L10.3 9.45l-7.72 7.72c-.78.78-.78 2.05 0 2.83L4 21.41c.39.39.9.59 1.41.59.51 0 1.02-.2 1.41-.59l7.78-7.78 2.81-2.81c.8-.78.8-2.07 0-2.86zM5.41 20L4 18.59l7.72-7.72 1.47 1.35L5.41 20z\"/>\n",
              "  </svg>\n",
              "      </button>\n",
              "      \n",
              "  <style>\n",
              "    .colab-df-container {\n",
              "      display:flex;\n",
              "      flex-wrap:wrap;\n",
              "      gap: 12px;\n",
              "    }\n",
              "\n",
              "    .colab-df-convert {\n",
              "      background-color: #E8F0FE;\n",
              "      border: none;\n",
              "      border-radius: 50%;\n",
              "      cursor: pointer;\n",
              "      display: none;\n",
              "      fill: #1967D2;\n",
              "      height: 32px;\n",
              "      padding: 0 0 0 0;\n",
              "      width: 32px;\n",
              "    }\n",
              "\n",
              "    .colab-df-convert:hover {\n",
              "      background-color: #E2EBFA;\n",
              "      box-shadow: 0px 1px 2px rgba(60, 64, 67, 0.3), 0px 1px 3px 1px rgba(60, 64, 67, 0.15);\n",
              "      fill: #174EA6;\n",
              "    }\n",
              "\n",
              "    [theme=dark] .colab-df-convert {\n",
              "      background-color: #3B4455;\n",
              "      fill: #D2E3FC;\n",
              "    }\n",
              "\n",
              "    [theme=dark] .colab-df-convert:hover {\n",
              "      background-color: #434B5C;\n",
              "      box-shadow: 0px 1px 3px 1px rgba(0, 0, 0, 0.15);\n",
              "      filter: drop-shadow(0px 1px 2px rgba(0, 0, 0, 0.3));\n",
              "      fill: #FFFFFF;\n",
              "    }\n",
              "  </style>\n",
              "\n",
              "      <script>\n",
              "        const buttonEl =\n",
              "          document.querySelector('#df-3a936504-a93a-4aab-89d5-74332ebbc6d2 button.colab-df-convert');\n",
              "        buttonEl.style.display =\n",
              "          google.colab.kernel.accessAllowed ? 'block' : 'none';\n",
              "\n",
              "        async function convertToInteractive(key) {\n",
              "          const element = document.querySelector('#df-3a936504-a93a-4aab-89d5-74332ebbc6d2');\n",
              "          const dataTable =\n",
              "            await google.colab.kernel.invokeFunction('convertToInteractive',\n",
              "                                                     [key], {});\n",
              "          if (!dataTable) return;\n",
              "\n",
              "          const docLinkHtml = 'Like what you see? Visit the ' +\n",
              "            '<a target=\"_blank\" href=https://colab.research.google.com/notebooks/data_table.ipynb>data table notebook</a>'\n",
              "            + ' to learn more about interactive tables.';\n",
              "          element.innerHTML = '';\n",
              "          dataTable['output_type'] = 'display_data';\n",
              "          await google.colab.output.renderOutput(dataTable, element);\n",
              "          const docLink = document.createElement('div');\n",
              "          docLink.innerHTML = docLinkHtml;\n",
              "          element.appendChild(docLink);\n",
              "        }\n",
              "      </script>\n",
              "    </div>\n",
              "  </div>\n",
              "  "
            ]
          },
          "metadata": {},
          "execution_count": 426
        }
      ]
    },
    {
      "cell_type": "code",
      "source": [
        "df.to_csv('Movies dataset_v1.1.csv', index=False)"
      ],
      "metadata": {
        "id": "qjyjkgpLE-NS"
      },
      "execution_count": 427,
      "outputs": []
    },
    {
      "cell_type": "code",
      "source": [
        "new_df = pd.read_csv('Movies dataset_v1.1.csv')\n",
        "new_df.info()"
      ],
      "metadata": {
        "colab": {
          "base_uri": "https://localhost:8080/"
        },
        "id": "F2fVysptFHcy",
        "outputId": "49fefa80-a47b-4779-a179-af23acc62a41"
      },
      "execution_count": 428,
      "outputs": [
        {
          "output_type": "stream",
          "name": "stdout",
          "text": [
            "<class 'pandas.core.frame.DataFrame'>\n",
            "RangeIndex: 83447 entries, 0 to 83446\n",
            "Data columns (total 7 columns):\n",
            " #   Column      Non-Null Count  Dtype  \n",
            "---  ------      --------------  -----  \n",
            " 0   movieId     83447 non-null  int64  \n",
            " 1   title       83447 non-null  object \n",
            " 2   genres      83447 non-null  object \n",
            " 3   movie_name  83447 non-null  object \n",
            " 4   Plot        83447 non-null  object \n",
            " 5   userId      83447 non-null  int64  \n",
            " 6   rating      83447 non-null  float64\n",
            "dtypes: float64(1), int64(2), object(4)\n",
            "memory usage: 4.5+ MB\n"
          ]
        }
      ]
    },
    {
      "cell_type": "code",
      "source": [
        "new_df.isnull().sum()"
      ],
      "metadata": {
        "colab": {
          "base_uri": "https://localhost:8080/"
        },
        "id": "9FLP4WHrE16J",
        "outputId": "3165c353-d79b-4fa4-e1a2-dac1dad98a68"
      },
      "execution_count": 429,
      "outputs": [
        {
          "output_type": "execute_result",
          "data": {
            "text/plain": [
              "movieId       0\n",
              "title         0\n",
              "genres        0\n",
              "movie_name    0\n",
              "Plot          0\n",
              "userId        0\n",
              "rating        0\n",
              "dtype: int64"
            ]
          },
          "metadata": {},
          "execution_count": 429
        }
      ]
    },
    {
      "cell_type": "code",
      "source": [
        "# Creating a pivot table with userId as rows, movieId as columns, and rating as values\n",
        "svd_input_matrix = new_df.pivot_table(\n",
        "    index='userId', columns='movieId', values='rating', fill_value=0)\n",
        "\n",
        "# Printing the input matrix\n",
        "print(svd_input_matrix)"
      ],
      "metadata": {
        "colab": {
          "base_uri": "https://localhost:8080/"
        },
        "id": "vaNcheOz-a9i",
        "outputId": "681b8da2-d227-4a14-ee9b-332ef84d606a"
      },
      "execution_count": 430,
      "outputs": [
        {
          "output_type": "stream",
          "name": "stdout",
          "text": [
            "movieId  1       2       3       4       5       6       7       8       \\\n",
            "userId                                                                    \n",
            "1           4.0     0.0     4.0     0.0     0.0     4.0     0.0       0   \n",
            "2           0.0     0.0     0.0     0.0     0.0     0.0     0.0       0   \n",
            "3           0.0     0.0     0.0     0.0     0.0     0.0     0.0       0   \n",
            "4           0.0     0.0     0.0     0.0     0.0     0.0     0.0       0   \n",
            "5           4.0     0.0     0.0     0.0     0.0     0.0     0.0       0   \n",
            "...         ...     ...     ...     ...     ...     ...     ...     ...   \n",
            "606         2.5     0.0     0.0     0.0     0.0     0.0     2.5       0   \n",
            "607         4.0     0.0     0.0     0.0     0.0     0.0     0.0       0   \n",
            "608         2.5     2.0     2.0     0.0     0.0     0.0     0.0       0   \n",
            "609         3.0     0.0     0.0     0.0     0.0     0.0     0.0       0   \n",
            "610         5.0     0.0     0.0     0.0     0.0     5.0     0.0       0   \n",
            "\n",
            "movieId  9       10      ...  190219  191005  193565  193571  193573  193579  \\\n",
            "userId                   ...                                                   \n",
            "1           0.0     0.0  ...       0     0.0     0.0       0       0     0.0   \n",
            "2           0.0     0.0  ...       0     0.0     0.0       0       0     0.0   \n",
            "3           0.0     0.0  ...       0     0.0     0.0       0       0     0.0   \n",
            "4           0.0     0.0  ...       0     0.0     0.0       0       0     0.0   \n",
            "5           0.0     0.0  ...       0     0.0     0.0       0       0     0.0   \n",
            "...         ...     ...  ...     ...     ...     ...     ...     ...     ...   \n",
            "606         0.0     0.0  ...       0     0.0     0.0       0       0     0.0   \n",
            "607         0.0     0.0  ...       0     0.0     0.0       0       0     0.0   \n",
            "608         0.0     4.0  ...       0     0.0     0.0       0       0     0.0   \n",
            "609         0.0     4.0  ...       0     0.0     0.0       0       0     0.0   \n",
            "610         0.0     0.0  ...       0     0.0     0.0       0       0     0.0   \n",
            "\n",
            "movieId  193581  193583  193585  193587  \n",
            "userId                                   \n",
            "1             0     0.0     0.0     0.0  \n",
            "2             0     0.0     0.0     0.0  \n",
            "3             0     0.0     0.0     0.0  \n",
            "4             0     0.0     0.0     0.0  \n",
            "5             0     0.0     0.0     0.0  \n",
            "...         ...     ...     ...     ...  \n",
            "606           0     0.0     0.0     0.0  \n",
            "607           0     0.0     0.0     0.0  \n",
            "608           0     0.0     0.0     0.0  \n",
            "609           0     0.0     0.0     0.0  \n",
            "610           0     0.0     0.0     0.0  \n",
            "\n",
            "[610 rows x 7842 columns]\n"
          ]
        }
      ]
    },
    {
      "cell_type": "code",
      "source": [
        "#This code block is to verify if the values are present properly in the matrix\n",
        "\n",
        "# Access the first row of svd_input_matrix\n",
        "first_row = svd_input_matrix.iloc[0]\n",
        "\n",
        "# Find the number of unique values in the first row\n",
        "print(np.count_nonzero(first_row))"
      ],
      "metadata": {
        "colab": {
          "base_uri": "https://localhost:8080/"
        },
        "id": "WkHF_ZcaBEJt",
        "outputId": "4060a903-8520-4ec7-e86d-5b9d12d26b84"
      },
      "execution_count": 431,
      "outputs": [
        {
          "output_type": "stream",
          "name": "stdout",
          "text": [
            "192\n"
          ]
        }
      ]
    },
    {
      "cell_type": "code",
      "source": [
        "# taking 20 movie ratings from user\n",
        "user_ratings = {\n",
        "    228888: 4.0,\n",
        "    1196: 4.5,\n",
        "    172288885: 4.0,\n",
        "    260: 5.0,\n",
        "    356: 5.5,\n",
        "    592: 4.5,\n",
        "    648: 4.0,\n",
        "    1089: 3.0\n",
        "}"
      ],
      "metadata": {
        "id": "CTfrvr-pQaee"
      },
      "execution_count": 432,
      "outputs": []
    },
    {
      "cell_type": "code",
      "source": [
        "import numpy as np\n",
        "import pandas as pd\n",
        "from scipy.sparse.linalg import svds\n",
        "\n",
        "# create the matrix\n",
        "ratings = np.array(svd_input_matrix)\n",
        "\n",
        "# calculate the SVD\n",
        "U, sigma, Vt = svds(ratings, k=len(user_ratings))\n",
        "\n",
        "# transform sigma into a diagonal matrix\n",
        "sigma = np.diag(sigma)\n",
        "\n",
        "# calculate the predicted ratings\n",
        "predicted_ratings = np.dot(np.dot(U, sigma), Vt)\n",
        "\n",
        "# create a dataframe of predicted ratings with row names and column names\n",
        "movie_names = svd_input_matrix.columns\n",
        "user_ids = svd_input_matrix.index\n",
        "predicted_ratings_df = pd.DataFrame(predicted_ratings, index=user_ids, columns=movie_names)\n",
        "\n",
        "# print the predicted ratings dataframe\n",
        "print(predicted_ratings_df)\n"
      ],
      "metadata": {
        "colab": {
          "base_uri": "https://localhost:8080/"
        },
        "id": "yNl7593XSHzM",
        "outputId": "197e9b30-d4f3-4f2a-c7d4-d5ecfe7e8f93"
      },
      "execution_count": 433,
      "outputs": [
        {
          "output_type": "stream",
          "name": "stdout",
          "text": [
            "movieId    1         2         3         4         5         6         7       \\\n",
            "userId                                                                          \n",
            "1        2.927076  1.038270  0.788886 -0.026526  0.119842  1.826674  0.133547   \n",
            "2        0.112900  0.038320 -0.113751 -0.004498 -0.032041  0.121144 -0.048753   \n",
            "3        0.039082  0.014085  0.027300 -0.003444 -0.008968  0.059804 -0.009452   \n",
            "4        1.637111  0.365188  0.159709  0.059278  0.172498  0.413910  0.309884   \n",
            "5        1.320766  1.026573  0.445179  0.132571  0.573720  0.767041  0.655450   \n",
            "...           ...       ...       ...       ...       ...       ...       ...   \n",
            "606      3.419544  0.747020  0.186633  0.172609  0.712238  0.596123  1.349009   \n",
            "607      2.456025  1.029067  0.660517  0.028241  0.295353  1.566373  0.369613   \n",
            "608      2.654924  1.970892  1.846728 -0.081660  0.511665  3.139343  0.505620   \n",
            "609      0.820714  0.638531  0.296854  0.079454  0.336219  0.677016  0.384666   \n",
            "610      1.134173  2.352142  0.091482  0.019723 -0.042268  3.485331 -0.664255   \n",
            "\n",
            "movieId    8         9         10      ...    190219    191005    193565  \\\n",
            "userId                                 ...                                 \n",
            "1       -0.040580  0.165022  2.084330  ... -0.000884 -0.012372 -0.009623   \n",
            "2       -0.003332 -0.010227 -0.045984  ...  0.000426  0.006936  0.005395   \n",
            "3        0.001898  0.007537  0.051014  ... -0.000113  0.000286  0.000223   \n",
            "4       -0.067397 -0.030069  0.089669  ...  0.000239 -0.003964 -0.003083   \n",
            "5        0.121083  0.115386  1.221941  ...  0.000372  0.000825  0.000642   \n",
            "...           ...       ...       ...  ...       ...       ...       ...   \n",
            "606      0.043804 -0.257447 -0.999376  ...  0.003520 -0.004925 -0.003831   \n",
            "607      0.025093  0.169462  1.897745  ... -0.000174 -0.003572 -0.002778   \n",
            "608      0.370594  0.222223  3.882862  ...  0.000013 -0.060157 -0.046789   \n",
            "609      0.084809  0.093892  0.937726  ...  0.000353  0.000826  0.000643   \n",
            "610      0.398864  0.054808  1.528976  ...  0.000336  0.057962  0.045082   \n",
            "\n",
            "movieId    193571    193573    193579    193581    193583    193585    193587  \n",
            "userId                                                                         \n",
            "1       -0.010997 -0.010997 -0.009623 -0.010997 -0.009623 -0.009623 -0.009623  \n",
            "2        0.006165  0.006165  0.005395  0.006165  0.005395  0.005395  0.005395  \n",
            "3        0.000255  0.000255  0.000223  0.000255  0.000223  0.000223  0.000223  \n",
            "4       -0.003523 -0.003523 -0.003083 -0.003523 -0.003083 -0.003083 -0.003083  \n",
            "5        0.000733  0.000733  0.000642  0.000733  0.000642  0.000642  0.000642  \n",
            "...           ...       ...       ...       ...       ...       ...       ...  \n",
            "606     -0.004378 -0.004378 -0.003831 -0.004378 -0.003831 -0.003831 -0.003831  \n",
            "607     -0.003175 -0.003175 -0.002778 -0.003175 -0.002778 -0.002778 -0.002778  \n",
            "608     -0.053473 -0.053473 -0.046789 -0.053473 -0.046789 -0.046789 -0.046789  \n",
            "609      0.000734  0.000734  0.000643  0.000734  0.000643  0.000643  0.000643  \n",
            "610      0.051522  0.051522  0.045082  0.051522  0.045082  0.045082  0.045082  \n",
            "\n",
            "[610 rows x 7842 columns]\n"
          ]
        }
      ]
    },
    {
      "cell_type": "code",
      "source": [
        "from os import error\n",
        "import numpy as np\n",
        "import pandas as pd\n",
        "from scipy.spatial.distance import cosine\n",
        "import warnings\n",
        "warnings.filterwarnings(\"ignore\")\n",
        "\n",
        "# converting user ratings to a dataframe\n",
        "user_ratings_df = pd.DataFrame.from_dict(user_ratings, orient='index', columns=['rating'])\n",
        "\n",
        "# creating a new row for the user in the predicted ratings dataframe\n",
        "user_ratings_df = user_ratings_df.T.reindex(columns=predicted_ratings_df.columns, fill_value=0)\n",
        "\n",
        "# appending the user's ratings to the predicted ratings dataframe\n",
        "predicted_ratings_df = predicted_ratings_df.append(user_ratings_df, ignore_index=True)\n",
        "\n",
        "# calculate the cosine similarity between the user and all other users\n",
        "similarities = pd.DataFrame(columns=['userId', 'similarity'])\n",
        "for index, row in predicted_ratings_df.iterrows():\n",
        "    if index != predicted_ratings_df.index[-1]:  # exclude the user's own row\n",
        "        similarity = 1 - cosine(predicted_ratings_df.loc[predicted_ratings_df.index[-1]], row)\n",
        "        similarities = similarities.append({'userId': index, 'similarity': similarity}, ignore_index=True)\n",
        "\n",
        "# finding the most similar user\n",
        "most_similar_user = similarities.loc[similarities['similarity'].idxmax()]['userId']\n",
        "\n",
        "# geting the top 30 movies rated by the most similar user\n",
        "top_movies = predicted_ratings_df.loc[most_similar_user].sort_values(ascending=False)\n",
        "\n",
        "#removing the movies already rated by the user from the most_similar_user row\n",
        "top_movies = top_movies.drop(list(user_ratings.keys()), errors='ignore')\n",
        "\n",
        "# printing the top 30 movies and their predicted evaluation metrics from SVD\n",
        "print(top_movies)"
      ],
      "metadata": {
        "colab": {
          "base_uri": "https://localhost:8080/"
        },
        "id": "lTOjyCwCmfBa",
        "outputId": "27786b71-eed4-4fcc-b7ad-9f8ac9b1f38d"
      },
      "execution_count": 434,
      "outputs": [
        {
          "output_type": "stream",
          "name": "stdout",
          "text": [
            "movieId\n",
            "296     2.927087\n",
            "110     2.573298\n",
            "2571    2.418450\n",
            "589     2.233135\n",
            "527     2.194135\n",
            "          ...   \n",
            "3882   -0.240468\n",
            "4890   -0.252860\n",
            "7451   -0.258916\n",
            "3489   -0.262736\n",
            "6936   -0.304394\n",
            "Name: 71, Length: 7836, dtype: float64\n"
          ]
        }
      ]
    },
    {
      "cell_type": "code",
      "source": [
        "top_movies_df = pd.DataFrame(top_movies.reset_index())\n",
        "top_movies_df.columns = ['movieId', 'predicted_evaluation']\n",
        "\n",
        "print(top_movies_df)"
      ],
      "metadata": {
        "colab": {
          "base_uri": "https://localhost:8080/"
        },
        "id": "Ux3XvcO0GG_R",
        "outputId": "3316573e-09e4-470c-fff6-332a58c8ffca"
      },
      "execution_count": 435,
      "outputs": [
        {
          "output_type": "stream",
          "name": "stdout",
          "text": [
            "      movieId  predicted_evaluation\n",
            "0         296              2.927087\n",
            "1         110              2.573298\n",
            "2        2571              2.418450\n",
            "3         589              2.233135\n",
            "4         527              2.194135\n",
            "...       ...                   ...\n",
            "7831     3882             -0.240468\n",
            "7832     4890             -0.252860\n",
            "7833     7451             -0.258916\n",
            "7834     3489             -0.262736\n",
            "7835     6936             -0.304394\n",
            "\n",
            "[7836 rows x 2 columns]\n"
          ]
        }
      ]
    },
    {
      "cell_type": "markdown",
      "source": [
        "# **Corresponding movie_names of the movieId's in user_ratings dictionary**"
      ],
      "metadata": {
        "id": "e3Gx2-17LpI4"
      }
    },
    {
      "cell_type": "code",
      "source": [
        "movie_names = list(new_df['movie_name'])\n",
        "for key in user_ratings:\n",
        "    if key not in new_df['movieId'].unique():\n",
        "        user_ratings[key] = \"Not present\"\n",
        "    else:\n",
        "        user_ratings[key] = movie_names[new_df.loc[new_df['movieId'] == key].index[0]]\n",
        "\n",
        "user_input_movies_df=pd.DataFrame.from_dict(user_ratings, orient='index', columns=['movie_name'])\n",
        "user_input_movies_df = user_input_movies_df[user_input_movies_df['movie_name'] != 'Not present']\n",
        "\n",
        "print(user_input_movies_df)\n",
        "print(user_input_movies_df.columns)"
      ],
      "metadata": {
        "colab": {
          "base_uri": "https://localhost:8080/"
        },
        "id": "NQH1VFg0ClXx",
        "outputId": "bf4d0418-210e-41a4-fe79-118e915bb688"
      },
      "execution_count": 436,
      "outputs": [
        {
          "output_type": "stream",
          "name": "stdout",
          "text": [
            "                                          movie_name\n",
            "1196  Star Wars: Episode V - The Empire Strikes Back\n",
            "260               Star Wars: Episode IV - A New Hope\n",
            "356                                     Forrest Gump\n",
            "592                                           Batman\n",
            "648                              Mission: Impossible\n",
            "1089                                  Reservoir Dogs\n",
            "Index(['movie_name'], dtype='object')\n"
          ]
        }
      ]
    },
    {
      "cell_type": "code",
      "source": [
        "# Left join the user_input_movies_df with the new_df on movie_name column\n",
        "usermoviewithplot = user_input_movies_df.merge(new_df, on='movie_name', how='left')\n",
        "usermoviewithplot = usermoviewithplot[['movie_name', 'Plot']].drop_duplicates()\n",
        "\n",
        "# Display the merged dataframe\n",
        "print(usermoviewithplot)\n",
        "print(usermoviewithplot.columns)"
      ],
      "metadata": {
        "colab": {
          "base_uri": "https://localhost:8080/"
        },
        "id": "Mw2tDzKYRUeQ",
        "outputId": "0ccc7a9d-5454-40fb-e244-2693138e58b6"
      },
      "execution_count": 437,
      "outputs": [
        {
          "output_type": "stream",
          "name": "stdout",
          "text": [
            "                                          movie_name  \\\n",
            "0     Star Wars: Episode V - The Empire Strikes Back   \n",
            "211               Star Wars: Episode IV - A New Hope   \n",
            "462                                     Forrest Gump   \n",
            "791                                           Batman   \n",
            "985                              Mission: Impossible   \n",
            "1147                                  Reservoir Dogs   \n",
            "\n",
            "                                                   Plot  \n",
            "0     Luke Skywalker, Han Solo, Princess Leia and Ch...  \n",
            "211   The Imperial Forces, under orders from cruel D...  \n",
            "462   Forrest Gump is a simple man with a low I.Q. b...  \n",
            "791   Gotham City. Crime boss Carl Grissom (Jack Pal...  \n",
            "985   In the fourth installment of the Mission Impos...  \n",
            "1147  Six thugs, who are strangers to each other, ar...  \n",
            "Index(['movie_name', 'Plot'], dtype='object')\n"
          ]
        }
      ]
    },
    {
      "cell_type": "code",
      "source": [
        "#Finding out the userId of the most similar user in our user-item matrix\n",
        "print(most_similar_user)\n",
        "\n",
        "# Create a dictionary to map movieId to movie_name\n",
        "movie_dict = dict(zip(new_df['movieId'], new_df['movie_name']))\n",
        "\n",
        "# Replace the movieId with its corresponding movie_name value\n",
        "top_movies_df['movieId'] = top_movies.index.map(movie_dict)"
      ],
      "metadata": {
        "id": "RfSQmtpQvKlj",
        "outputId": "5062cc8a-b47e-406d-98e3-9721529fa171",
        "colab": {
          "base_uri": "https://localhost:8080/"
        }
      },
      "execution_count": 438,
      "outputs": [
        {
          "output_type": "stream",
          "name": "stdout",
          "text": [
            "71.0\n"
          ]
        }
      ]
    },
    {
      "cell_type": "code",
      "source": [
        "# create a dictionary mapping movie names to genres\n",
        "movie_genres = dict(new_df[['movie_name', 'genres']].drop_duplicates().values)\n",
        "\n",
        "# add a new 'genres' column to the top_movies dataframe\n",
        "top_movies_df['genres'] = top_movies_df['movieId'].map(movie_genres)"
      ],
      "metadata": {
        "id": "hwUr-0H290yi"
      },
      "execution_count": 439,
      "outputs": []
    },
    {
      "cell_type": "markdown",
      "source": [
        "# **Top 25 movies with their evaluation metrics and genres**"
      ],
      "metadata": {
        "id": "J7K3nk3wNrc2"
      }
    },
    {
      "cell_type": "code",
      "source": [
        "top_movies_df.columns = ['movie_name', 'predicted_evaluation', 'genres']\n",
        "\n",
        "print(top_movies_df[:25])"
      ],
      "metadata": {
        "colab": {
          "base_uri": "https://localhost:8080/"
        },
        "id": "IA3lQfgWEF1D",
        "outputId": "a9531622-1e78-4a13-9ae9-fdc58591578b"
      },
      "execution_count": 440,
      "outputs": [
        {
          "output_type": "stream",
          "name": "stdout",
          "text": [
            "                                    movie_name  predicted_evaluation  \\\n",
            "0                                 Pulp Fiction              2.927087   \n",
            "1                                   Braveheart              2.573298   \n",
            "2                                  Matrix, The              2.418450   \n",
            "3                   Terminator 2: Judgment Day              2.233135   \n",
            "4                             Schindler's List              2.194135   \n",
            "5                                Jurassic Park              1.998063   \n",
            "6                                    Apollo 13              1.918491   \n",
            "7                                Fugitive, The              1.909206   \n",
            "8                          Saving Private Ryan              1.898986   \n",
            "9                                        Seven              1.827194   \n",
            "10                                  Fight Club              1.660862   \n",
            "11                              Godfather, The              1.656720   \n",
            "12  Star Wars: Episode VI - Return of the Jedi              1.614812   \n",
            "13                          Dances with Wolves              1.575997   \n",
            "14                     Raiders of the Lost Ark              1.556280   \n",
            "15                                       Fargo              1.461710   \n",
            "16                              Twelve Monkeys              1.431739   \n",
            "17                                   Toy Story              1.414635   \n",
            "18                            Independence Day              1.404607   \n",
            "19                                   True Lies              1.404269   \n",
            "20                             American Beauty              1.397024   \n",
            "21                            Sixth Sense, The              1.306959   \n",
            "22                                       Speed              1.297214   \n",
            "23                                   Gladiator              1.296406   \n",
            "24                  Die Hard: With a Vengeance              1.222418   \n",
            "\n",
            "                                         genres  \n",
            "0                   Comedy|Crime|Drama|Thriller  \n",
            "1                              Action|Drama|War  \n",
            "2                        Action|Sci-Fi|Thriller  \n",
            "3                                 Action|Sci-Fi  \n",
            "4                                     Drama|War  \n",
            "5              Action|Adventure|Sci-Fi|Thriller  \n",
            "6                          Adventure|Drama|IMAX  \n",
            "7                                         Drama  \n",
            "8                              Action|Drama|War  \n",
            "9                              Mystery|Thriller  \n",
            "10                  Action|Crime|Drama|Thriller  \n",
            "11                                  Crime|Drama  \n",
            "12                      Action|Adventure|Sci-Fi  \n",
            "13                      Adventure|Drama|Western  \n",
            "14                             Action|Adventure  \n",
            "15                  Comedy|Crime|Drama|Thriller  \n",
            "16                      Mystery|Sci-Fi|Thriller  \n",
            "17  Adventure|Animation|Children|Comedy|Fantasy  \n",
            "18             Action|Adventure|Sci-Fi|Thriller  \n",
            "19     Action|Adventure|Comedy|Romance|Thriller  \n",
            "20                                Drama|Romance  \n",
            "21                         Drama|Horror|Mystery  \n",
            "22                      Action|Romance|Thriller  \n",
            "23                                 Action|Drama  \n",
            "24                        Action|Crime|Thriller  \n"
          ]
        }
      ]
    },
    {
      "cell_type": "code",
      "source": [
        "top_movies_df.columns"
      ],
      "metadata": {
        "colab": {
          "base_uri": "https://localhost:8080/"
        },
        "id": "2jaGJZwo_cuM",
        "outputId": "80e17bd4-9a1d-4aa6-f0f2-4b86b2ad3616"
      },
      "execution_count": 441,
      "outputs": [
        {
          "output_type": "execute_result",
          "data": {
            "text/plain": [
              "Index(['movie_name', 'predicted_evaluation', 'genres'], dtype='object')"
            ]
          },
          "metadata": {},
          "execution_count": 441
        }
      ]
    },
    {
      "cell_type": "code",
      "source": [
        "# Ask the user for their preferred and disliked genres\n",
        "preferred_genres = input(\"Enter your 3 most liked genres, separated by commas: \").split(\"|\")\n",
        "disliked_genres = input(\"Enter your 3 most disliked genres, separated by commas: \").split(\"|\")\n",
        "\n",
        "# Filter out movies that the user dislikes\n",
        "disliked_movies = top_movies_df[top_movies_df['genres'].apply(lambda x: any(genre in disliked_genres for genre in x.split(\"|\")))]\n",
        "\n",
        "# Remove movies present in disliked movies from top_movies_df\n",
        "top_movies_df = top_movies_df[~top_movies_df['movie_name'].isin(disliked_movies['movie_name'])]\n",
        "\n",
        "# Filter out movies that don't match the user's preferred genres\n",
        "preferred_movies = top_movies_df[top_movies_df['genres'].apply(lambda x: any(genre in preferred_genres for genre in x.split(\"|\")))]\n"
      ],
      "metadata": {
        "colab": {
          "base_uri": "https://localhost:8080/"
        },
        "id": "3jEIIApG_fsU",
        "outputId": "f537c48c-034b-412a-fb7e-b4febd9f776b"
      },
      "execution_count": 442,
      "outputs": [
        {
          "name": "stdout",
          "output_type": "stream",
          "text": [
            "Enter your 3 most liked genres, separated by commas: Action|Sci-Fi|Adventure\n",
            "Enter your 3 most disliked genres, separated by commas: Thriller|Fantasy|Children\n"
          ]
        }
      ]
    },
    {
      "cell_type": "markdown",
      "source": [],
      "metadata": {
        "id": "f9VvFd9qOTux"
      }
    },
    {
      "cell_type": "code",
      "source": [
        "# Include movies in preferred_movies in top_movies_df\n",
        "top_movies_df = pd.concat([top_movies_df, preferred_movies])\n",
        "\n",
        "# Multiply the predicted_evaluation of movies in preferred_movies by 2\n",
        "preferred_movies['predicted_evaluation'] = preferred_movies['predicted_evaluation'] * 2\n",
        "\n",
        "top_movies_df = top_movies_df.sort_values('predicted_evaluation', ascending=False)\n",
        "top_movies_df = top_movies_df.drop_duplicates(subset='movie_name', keep='first')"
      ],
      "metadata": {
        "id": "p-2LyI4xCK4a"
      },
      "execution_count": 443,
      "outputs": []
    },
    {
      "cell_type": "code",
      "source": [
        "top_movies_df=top_movies_df[:25]\n",
        "print(top_movies_df[:25])"
      ],
      "metadata": {
        "colab": {
          "base_uri": "https://localhost:8080/"
        },
        "id": "P4nZsvncAmx1",
        "outputId": "fc2c565e-fc92-4db1-b06d-cb1825f35019"
      },
      "execution_count": 444,
      "outputs": [
        {
          "output_type": "stream",
          "name": "stdout",
          "text": [
            "                                    movie_name  predicted_evaluation  \\\n",
            "1                                   Braveheart              2.573298   \n",
            "3                   Terminator 2: Judgment Day              2.233135   \n",
            "4                             Schindler's List              2.194135   \n",
            "6                                    Apollo 13              1.918491   \n",
            "7                                Fugitive, The              1.909206   \n",
            "8                          Saving Private Ryan              1.898986   \n",
            "11                              Godfather, The              1.656720   \n",
            "12  Star Wars: Episode VI - Return of the Jedi              1.614812   \n",
            "13                          Dances with Wolves              1.575997   \n",
            "14                     Raiders of the Lost Ark              1.556280   \n",
            "20                             American Beauty              1.397024   \n",
            "21                            Sixth Sense, The              1.306959   \n",
            "23                                   Gladiator              1.296406   \n",
            "28                          Back to the Future              1.144498   \n",
            "29          Indiana Jones and the Last Crusade              1.096133   \n",
            "30                                       Alien              1.063567   \n",
            "31                                      Aliens              1.061218   \n",
            "33                          American History X              1.040666   \n",
            "34                                    Stargate              1.034503   \n",
            "38                                  Goodfellas              1.006211   \n",
            "42                           Good Will Hunting              0.978087   \n",
            "43                            Dark Knight, The              0.954547   \n",
            "45             One Flew Over the Cuckoo's Nest              0.950383   \n",
            "47                                Men in Black              0.921084   \n",
            "51                      Star Trek: Generations              0.843606   \n",
            "\n",
            "                            genres  \n",
            "1                 Action|Drama|War  \n",
            "3                    Action|Sci-Fi  \n",
            "4                        Drama|War  \n",
            "6             Adventure|Drama|IMAX  \n",
            "7                            Drama  \n",
            "8                 Action|Drama|War  \n",
            "11                     Crime|Drama  \n",
            "12         Action|Adventure|Sci-Fi  \n",
            "13         Adventure|Drama|Western  \n",
            "14                Action|Adventure  \n",
            "20                   Drama|Romance  \n",
            "21            Drama|Horror|Mystery  \n",
            "23                    Action|Drama  \n",
            "28         Adventure|Comedy|Sci-Fi  \n",
            "29                Action|Adventure  \n",
            "30                   Horror|Sci-Fi  \n",
            "31  Action|Adventure|Horror|Sci-Fi  \n",
            "33                     Crime|Drama  \n",
            "34         Action|Adventure|Sci-Fi  \n",
            "38                     Crime|Drama  \n",
            "42                   Drama|Romance  \n",
            "43         Action|Crime|Drama|IMAX  \n",
            "45                           Drama  \n",
            "47            Action|Comedy|Sci-Fi  \n",
            "51          Adventure|Drama|Sci-Fi  \n"
          ]
        }
      ]
    },
    {
      "cell_type": "code",
      "source": [
        "# create a dictionary mapping movie names to genres\n",
        "movie_plot = dict(new_df[['movie_name', 'Plot']].drop_duplicates().values)\n",
        "\n",
        "# add a new 'genres' column to the top_movies dataframe\n",
        "top_movies_df['Plot'] = top_movies_df['movie_name'].map(movie_plot)"
      ],
      "metadata": {
        "id": "D7xj0FNPi45F"
      },
      "execution_count": 445,
      "outputs": []
    },
    {
      "cell_type": "code",
      "source": [
        "top_movies_df"
      ],
      "metadata": {
        "colab": {
          "base_uri": "https://localhost:8080/",
          "height": 833
        },
        "id": "HwK9EXMjjd8e",
        "outputId": "a7868f8f-a0eb-4d85-9740-918368ad3e2c"
      },
      "execution_count": 446,
      "outputs": [
        {
          "output_type": "execute_result",
          "data": {
            "text/plain": [
              "                                    movie_name  predicted_evaluation  \\\n",
              "1                                   Braveheart              2.573298   \n",
              "3                   Terminator 2: Judgment Day              2.233135   \n",
              "4                             Schindler's List              2.194135   \n",
              "6                                    Apollo 13              1.918491   \n",
              "7                                Fugitive, The              1.909206   \n",
              "8                          Saving Private Ryan              1.898986   \n",
              "11                              Godfather, The              1.656720   \n",
              "12  Star Wars: Episode VI - Return of the Jedi              1.614812   \n",
              "13                          Dances with Wolves              1.575997   \n",
              "14                     Raiders of the Lost Ark              1.556280   \n",
              "20                             American Beauty              1.397024   \n",
              "21                            Sixth Sense, The              1.306959   \n",
              "23                                   Gladiator              1.296406   \n",
              "28                          Back to the Future              1.144498   \n",
              "29          Indiana Jones and the Last Crusade              1.096133   \n",
              "30                                       Alien              1.063567   \n",
              "31                                      Aliens              1.061218   \n",
              "33                          American History X              1.040666   \n",
              "34                                    Stargate              1.034503   \n",
              "38                                  Goodfellas              1.006211   \n",
              "42                           Good Will Hunting              0.978087   \n",
              "43                            Dark Knight, The              0.954547   \n",
              "45             One Flew Over the Cuckoo's Nest              0.950383   \n",
              "47                                Men in Black              0.921084   \n",
              "51                      Star Trek: Generations              0.843606   \n",
              "\n",
              "                            genres  \\\n",
              "1                 Action|Drama|War   \n",
              "3                    Action|Sci-Fi   \n",
              "4                        Drama|War   \n",
              "6             Adventure|Drama|IMAX   \n",
              "7                            Drama   \n",
              "8                 Action|Drama|War   \n",
              "11                     Crime|Drama   \n",
              "12         Action|Adventure|Sci-Fi   \n",
              "13         Adventure|Drama|Western   \n",
              "14                Action|Adventure   \n",
              "20                   Drama|Romance   \n",
              "21            Drama|Horror|Mystery   \n",
              "23                    Action|Drama   \n",
              "28         Adventure|Comedy|Sci-Fi   \n",
              "29                Action|Adventure   \n",
              "30                   Horror|Sci-Fi   \n",
              "31  Action|Adventure|Horror|Sci-Fi   \n",
              "33                     Crime|Drama   \n",
              "34         Action|Adventure|Sci-Fi   \n",
              "38                     Crime|Drama   \n",
              "42                   Drama|Romance   \n",
              "43         Action|Crime|Drama|IMAX   \n",
              "45                           Drama   \n",
              "47            Action|Comedy|Sci-Fi   \n",
              "51          Adventure|Drama|Sci-Fi   \n",
              "\n",
              "                                                 Plot  \n",
              "1   William Wallace is a Scottish rebel who leads ...  \n",
              "3   Over 10 years have passed since the first mach...  \n",
              "4   Oskar Schindler is a vain and greedy German bu...  \n",
              "6   Based on the true story of the ill-fated 13th ...  \n",
              "7   It chronicles the rise of Carlos Ghosn as well...  \n",
              "8   Opening with the Allied invasion of Normandy o...  \n",
              "11  A thriller focusing on the rise of a group of ...  \n",
              "12  Luke Skywalker battles Jabba the Hutt and Dart...  \n",
              "13  Lt. John Dunbar is dubbed a hero after he acci...  \n",
              "14  The year is 1936. An archeology professor name...  \n",
              "20  After his death sometime in his 43rd year, sub...  \n",
              "21  A brief feature that showcases various cast me...  \n",
              "23  Maximus is a powerful Roman general, loved by ...  \n",
              "28  Marty McFly, a typical American teenager of th...  \n",
              "29  An art collector appeals to Indiana Jones to e...  \n",
              "30  In the distant future, the crew of the commerc...  \n",
              "31  57 years after Ellen Ripley had a close encoun...  \n",
              "33  Derek Vineyard is paroled after serving 3 year...  \n",
              "34  In 1928, in Egypt, a strange device is found b...  \n",
              "38  Henry Hill might be a small time gangster, who...  \n",
              "42  A touching tale of a wayward young man who str...  \n",
              "43  A look at the history of the Batman comic fran...  \n",
              "45  McMurphy has a criminal past and has once agai...  \n",
              "47  Based off of the comic book. Unbeknownst to ot...  \n",
              "51  In the late twenty-third century, the gala mai...  "
            ],
            "text/html": [
              "\n",
              "  <div id=\"df-6ca0a768-2202-4f3c-a0ff-b4cbc7e2c3ee\">\n",
              "    <div class=\"colab-df-container\">\n",
              "      <div>\n",
              "<style scoped>\n",
              "    .dataframe tbody tr th:only-of-type {\n",
              "        vertical-align: middle;\n",
              "    }\n",
              "\n",
              "    .dataframe tbody tr th {\n",
              "        vertical-align: top;\n",
              "    }\n",
              "\n",
              "    .dataframe thead th {\n",
              "        text-align: right;\n",
              "    }\n",
              "</style>\n",
              "<table border=\"1\" class=\"dataframe\">\n",
              "  <thead>\n",
              "    <tr style=\"text-align: right;\">\n",
              "      <th></th>\n",
              "      <th>movie_name</th>\n",
              "      <th>predicted_evaluation</th>\n",
              "      <th>genres</th>\n",
              "      <th>Plot</th>\n",
              "    </tr>\n",
              "  </thead>\n",
              "  <tbody>\n",
              "    <tr>\n",
              "      <th>1</th>\n",
              "      <td>Braveheart</td>\n",
              "      <td>2.573298</td>\n",
              "      <td>Action|Drama|War</td>\n",
              "      <td>William Wallace is a Scottish rebel who leads ...</td>\n",
              "    </tr>\n",
              "    <tr>\n",
              "      <th>3</th>\n",
              "      <td>Terminator 2: Judgment Day</td>\n",
              "      <td>2.233135</td>\n",
              "      <td>Action|Sci-Fi</td>\n",
              "      <td>Over 10 years have passed since the first mach...</td>\n",
              "    </tr>\n",
              "    <tr>\n",
              "      <th>4</th>\n",
              "      <td>Schindler's List</td>\n",
              "      <td>2.194135</td>\n",
              "      <td>Drama|War</td>\n",
              "      <td>Oskar Schindler is a vain and greedy German bu...</td>\n",
              "    </tr>\n",
              "    <tr>\n",
              "      <th>6</th>\n",
              "      <td>Apollo 13</td>\n",
              "      <td>1.918491</td>\n",
              "      <td>Adventure|Drama|IMAX</td>\n",
              "      <td>Based on the true story of the ill-fated 13th ...</td>\n",
              "    </tr>\n",
              "    <tr>\n",
              "      <th>7</th>\n",
              "      <td>Fugitive, The</td>\n",
              "      <td>1.909206</td>\n",
              "      <td>Drama</td>\n",
              "      <td>It chronicles the rise of Carlos Ghosn as well...</td>\n",
              "    </tr>\n",
              "    <tr>\n",
              "      <th>8</th>\n",
              "      <td>Saving Private Ryan</td>\n",
              "      <td>1.898986</td>\n",
              "      <td>Action|Drama|War</td>\n",
              "      <td>Opening with the Allied invasion of Normandy o...</td>\n",
              "    </tr>\n",
              "    <tr>\n",
              "      <th>11</th>\n",
              "      <td>Godfather, The</td>\n",
              "      <td>1.656720</td>\n",
              "      <td>Crime|Drama</td>\n",
              "      <td>A thriller focusing on the rise of a group of ...</td>\n",
              "    </tr>\n",
              "    <tr>\n",
              "      <th>12</th>\n",
              "      <td>Star Wars: Episode VI - Return of the Jedi</td>\n",
              "      <td>1.614812</td>\n",
              "      <td>Action|Adventure|Sci-Fi</td>\n",
              "      <td>Luke Skywalker battles Jabba the Hutt and Dart...</td>\n",
              "    </tr>\n",
              "    <tr>\n",
              "      <th>13</th>\n",
              "      <td>Dances with Wolves</td>\n",
              "      <td>1.575997</td>\n",
              "      <td>Adventure|Drama|Western</td>\n",
              "      <td>Lt. John Dunbar is dubbed a hero after he acci...</td>\n",
              "    </tr>\n",
              "    <tr>\n",
              "      <th>14</th>\n",
              "      <td>Raiders of the Lost Ark</td>\n",
              "      <td>1.556280</td>\n",
              "      <td>Action|Adventure</td>\n",
              "      <td>The year is 1936. An archeology professor name...</td>\n",
              "    </tr>\n",
              "    <tr>\n",
              "      <th>20</th>\n",
              "      <td>American Beauty</td>\n",
              "      <td>1.397024</td>\n",
              "      <td>Drama|Romance</td>\n",
              "      <td>After his death sometime in his 43rd year, sub...</td>\n",
              "    </tr>\n",
              "    <tr>\n",
              "      <th>21</th>\n",
              "      <td>Sixth Sense, The</td>\n",
              "      <td>1.306959</td>\n",
              "      <td>Drama|Horror|Mystery</td>\n",
              "      <td>A brief feature that showcases various cast me...</td>\n",
              "    </tr>\n",
              "    <tr>\n",
              "      <th>23</th>\n",
              "      <td>Gladiator</td>\n",
              "      <td>1.296406</td>\n",
              "      <td>Action|Drama</td>\n",
              "      <td>Maximus is a powerful Roman general, loved by ...</td>\n",
              "    </tr>\n",
              "    <tr>\n",
              "      <th>28</th>\n",
              "      <td>Back to the Future</td>\n",
              "      <td>1.144498</td>\n",
              "      <td>Adventure|Comedy|Sci-Fi</td>\n",
              "      <td>Marty McFly, a typical American teenager of th...</td>\n",
              "    </tr>\n",
              "    <tr>\n",
              "      <th>29</th>\n",
              "      <td>Indiana Jones and the Last Crusade</td>\n",
              "      <td>1.096133</td>\n",
              "      <td>Action|Adventure</td>\n",
              "      <td>An art collector appeals to Indiana Jones to e...</td>\n",
              "    </tr>\n",
              "    <tr>\n",
              "      <th>30</th>\n",
              "      <td>Alien</td>\n",
              "      <td>1.063567</td>\n",
              "      <td>Horror|Sci-Fi</td>\n",
              "      <td>In the distant future, the crew of the commerc...</td>\n",
              "    </tr>\n",
              "    <tr>\n",
              "      <th>31</th>\n",
              "      <td>Aliens</td>\n",
              "      <td>1.061218</td>\n",
              "      <td>Action|Adventure|Horror|Sci-Fi</td>\n",
              "      <td>57 years after Ellen Ripley had a close encoun...</td>\n",
              "    </tr>\n",
              "    <tr>\n",
              "      <th>33</th>\n",
              "      <td>American History X</td>\n",
              "      <td>1.040666</td>\n",
              "      <td>Crime|Drama</td>\n",
              "      <td>Derek Vineyard is paroled after serving 3 year...</td>\n",
              "    </tr>\n",
              "    <tr>\n",
              "      <th>34</th>\n",
              "      <td>Stargate</td>\n",
              "      <td>1.034503</td>\n",
              "      <td>Action|Adventure|Sci-Fi</td>\n",
              "      <td>In 1928, in Egypt, a strange device is found b...</td>\n",
              "    </tr>\n",
              "    <tr>\n",
              "      <th>38</th>\n",
              "      <td>Goodfellas</td>\n",
              "      <td>1.006211</td>\n",
              "      <td>Crime|Drama</td>\n",
              "      <td>Henry Hill might be a small time gangster, who...</td>\n",
              "    </tr>\n",
              "    <tr>\n",
              "      <th>42</th>\n",
              "      <td>Good Will Hunting</td>\n",
              "      <td>0.978087</td>\n",
              "      <td>Drama|Romance</td>\n",
              "      <td>A touching tale of a wayward young man who str...</td>\n",
              "    </tr>\n",
              "    <tr>\n",
              "      <th>43</th>\n",
              "      <td>Dark Knight, The</td>\n",
              "      <td>0.954547</td>\n",
              "      <td>Action|Crime|Drama|IMAX</td>\n",
              "      <td>A look at the history of the Batman comic fran...</td>\n",
              "    </tr>\n",
              "    <tr>\n",
              "      <th>45</th>\n",
              "      <td>One Flew Over the Cuckoo's Nest</td>\n",
              "      <td>0.950383</td>\n",
              "      <td>Drama</td>\n",
              "      <td>McMurphy has a criminal past and has once agai...</td>\n",
              "    </tr>\n",
              "    <tr>\n",
              "      <th>47</th>\n",
              "      <td>Men in Black</td>\n",
              "      <td>0.921084</td>\n",
              "      <td>Action|Comedy|Sci-Fi</td>\n",
              "      <td>Based off of the comic book. Unbeknownst to ot...</td>\n",
              "    </tr>\n",
              "    <tr>\n",
              "      <th>51</th>\n",
              "      <td>Star Trek: Generations</td>\n",
              "      <td>0.843606</td>\n",
              "      <td>Adventure|Drama|Sci-Fi</td>\n",
              "      <td>In the late twenty-third century, the gala mai...</td>\n",
              "    </tr>\n",
              "  </tbody>\n",
              "</table>\n",
              "</div>\n",
              "      <button class=\"colab-df-convert\" onclick=\"convertToInteractive('df-6ca0a768-2202-4f3c-a0ff-b4cbc7e2c3ee')\"\n",
              "              title=\"Convert this dataframe to an interactive table.\"\n",
              "              style=\"display:none;\">\n",
              "        \n",
              "  <svg xmlns=\"http://www.w3.org/2000/svg\" height=\"24px\"viewBox=\"0 0 24 24\"\n",
              "       width=\"24px\">\n",
              "    <path d=\"M0 0h24v24H0V0z\" fill=\"none\"/>\n",
              "    <path d=\"M18.56 5.44l.94 2.06.94-2.06 2.06-.94-2.06-.94-.94-2.06-.94 2.06-2.06.94zm-11 1L8.5 8.5l.94-2.06 2.06-.94-2.06-.94L8.5 2.5l-.94 2.06-2.06.94zm10 10l.94 2.06.94-2.06 2.06-.94-2.06-.94-.94-2.06-.94 2.06-2.06.94z\"/><path d=\"M17.41 7.96l-1.37-1.37c-.4-.4-.92-.59-1.43-.59-.52 0-1.04.2-1.43.59L10.3 9.45l-7.72 7.72c-.78.78-.78 2.05 0 2.83L4 21.41c.39.39.9.59 1.41.59.51 0 1.02-.2 1.41-.59l7.78-7.78 2.81-2.81c.8-.78.8-2.07 0-2.86zM5.41 20L4 18.59l7.72-7.72 1.47 1.35L5.41 20z\"/>\n",
              "  </svg>\n",
              "      </button>\n",
              "      \n",
              "  <style>\n",
              "    .colab-df-container {\n",
              "      display:flex;\n",
              "      flex-wrap:wrap;\n",
              "      gap: 12px;\n",
              "    }\n",
              "\n",
              "    .colab-df-convert {\n",
              "      background-color: #E8F0FE;\n",
              "      border: none;\n",
              "      border-radius: 50%;\n",
              "      cursor: pointer;\n",
              "      display: none;\n",
              "      fill: #1967D2;\n",
              "      height: 32px;\n",
              "      padding: 0 0 0 0;\n",
              "      width: 32px;\n",
              "    }\n",
              "\n",
              "    .colab-df-convert:hover {\n",
              "      background-color: #E2EBFA;\n",
              "      box-shadow: 0px 1px 2px rgba(60, 64, 67, 0.3), 0px 1px 3px 1px rgba(60, 64, 67, 0.15);\n",
              "      fill: #174EA6;\n",
              "    }\n",
              "\n",
              "    [theme=dark] .colab-df-convert {\n",
              "      background-color: #3B4455;\n",
              "      fill: #D2E3FC;\n",
              "    }\n",
              "\n",
              "    [theme=dark] .colab-df-convert:hover {\n",
              "      background-color: #434B5C;\n",
              "      box-shadow: 0px 1px 3px 1px rgba(0, 0, 0, 0.15);\n",
              "      filter: drop-shadow(0px 1px 2px rgba(0, 0, 0, 0.3));\n",
              "      fill: #FFFFFF;\n",
              "    }\n",
              "  </style>\n",
              "\n",
              "      <script>\n",
              "        const buttonEl =\n",
              "          document.querySelector('#df-6ca0a768-2202-4f3c-a0ff-b4cbc7e2c3ee button.colab-df-convert');\n",
              "        buttonEl.style.display =\n",
              "          google.colab.kernel.accessAllowed ? 'block' : 'none';\n",
              "\n",
              "        async function convertToInteractive(key) {\n",
              "          const element = document.querySelector('#df-6ca0a768-2202-4f3c-a0ff-b4cbc7e2c3ee');\n",
              "          const dataTable =\n",
              "            await google.colab.kernel.invokeFunction('convertToInteractive',\n",
              "                                                     [key], {});\n",
              "          if (!dataTable) return;\n",
              "\n",
              "          const docLinkHtml = 'Like what you see? Visit the ' +\n",
              "            '<a target=\"_blank\" href=https://colab.research.google.com/notebooks/data_table.ipynb>data table notebook</a>'\n",
              "            + ' to learn more about interactive tables.';\n",
              "          element.innerHTML = '';\n",
              "          dataTable['output_type'] = 'display_data';\n",
              "          await google.colab.output.renderOutput(dataTable, element);\n",
              "          const docLink = document.createElement('div');\n",
              "          docLink.innerHTML = docLinkHtml;\n",
              "          element.appendChild(docLink);\n",
              "        }\n",
              "      </script>\n",
              "    </div>\n",
              "  </div>\n",
              "  "
            ]
          },
          "metadata": {},
          "execution_count": 446
        }
      ]
    },
    {
      "cell_type": "code",
      "source": [
        "import pandas as pd\n",
        "import nltk\n",
        "nltk.download('stopwords')\n",
        "from nltk.corpus import stopwords\n",
        "from nltk.stem import PorterStemmer\n",
        "from nltk.tokenize import word_tokenize\n",
        "import re\n",
        "\n",
        "nltk.download('punkt')\n",
        "\n",
        "# Define a function for preprocessing\n",
        "def preprocess(text):\n",
        "    # Remove special characters and digits\n",
        "    text = re.sub(r'\\W+', ' ', text)\n",
        "    text = re.sub(r'\\d+', '', text)\n",
        "    # Tokenize the text\n",
        "    tokens = word_tokenize(text)\n",
        "    # Remove stopwords\n",
        "    stop_words = set(stopwords.words('english'))\n",
        "    tokens = [word.lower() for word in tokens if word.lower() not in stop_words]\n",
        "    # Stem the words\n",
        "    stemmer = PorterStemmer()\n",
        "    tokens = [stemmer.stem(word) for word in tokens]\n",
        "    # Join the tokens back into a string\n",
        "    text = ' '.join(tokens)\n",
        "    return text\n",
        "\n",
        "# Apply the preprocessing function to the 'Plot' column\n",
        "usermoviewithplot['Plot'] = usermoviewithplot['Plot'].apply(preprocess)\n",
        "\n",
        "top_movies_df['Plot'] = top_movies_df['Plot'].apply(preprocess)"
      ],
      "metadata": {
        "colab": {
          "base_uri": "https://localhost:8080/"
        },
        "id": "ScggJk1yyALu",
        "outputId": "f7a50c62-c46e-42bb-d455-830abbc83f04"
      },
      "execution_count": 447,
      "outputs": [
        {
          "output_type": "stream",
          "name": "stderr",
          "text": [
            "[nltk_data] Downloading package stopwords to /root/nltk_data...\n",
            "[nltk_data]   Package stopwords is already up-to-date!\n",
            "[nltk_data] Downloading package punkt to /root/nltk_data...\n",
            "[nltk_data]   Package punkt is already up-to-date!\n"
          ]
        }
      ]
    },
    {
      "cell_type": "code",
      "source": [
        "# Print the preprocessed dataframe\n",
        "print(usermoviewithplot['Plot'])\n",
        "\n",
        "print(top_movies_df['Plot'])"
      ],
      "metadata": {
        "colab": {
          "base_uri": "https://localhost:8080/"
        },
        "id": "bISBLjIL1NlE",
        "outputId": "4eeaeb1f-3045-4151-c93e-0b6d6bbae8e5"
      },
      "execution_count": 448,
      "outputs": [
        {
          "output_type": "stream",
          "name": "stdout",
          "text": [
            "0       luke skywalk han solo princess leia chewbacca ...\n",
            "211     imperi forc order cruel darth vader hold princ...\n",
            "462     forrest gump simpl man low q good intent run c...\n",
            "791     gotham citi crime boss carl grissom jack palan...\n",
            "985     fourth instal mission imposs seri ethan hunt n...\n",
            "1147    six thug stranger hire crime boss joe cabot ca...\n",
            "Name: Plot, dtype: object\n",
            "1     william wallac scottish rebel lead upris cruel...\n",
            "3     year pass sinc first machin call termin tri ki...\n",
            "4     oskar schindler vain greedi german businessman...\n",
            "6     base true stori ill fate th apollo mission bou...\n",
            "7     chronicl rise carlo ghosn well intern rivalri ...\n",
            "8     open alli invas normandi june member nd ranger...\n",
            "11    thriller focus rise group influenti power gang...\n",
            "12    luke skywalk battl jabba hutt darth vader save...\n",
            "13    lt john dunbar dub hero accident lead union tr...\n",
            "14    year archeolog professor name indiana jone ven...\n",
            "20    death sometim rd year suburbanit lester burnha...\n",
            "21    brief featur showcas variou cast member discus...\n",
            "23    maximu power roman gener love peopl age empero...\n",
            "28    marti mcfli typic american teenag eighti accid...\n",
            "29    art collector appeal indiana jone embark searc...\n",
            "30    distant futur crew commerci spaceship nostromo...\n",
            "31    year ellen ripley close encount reptilian alie...\n",
            "33    derek vineyard parol serv year prison brutal k...\n",
            "34    egypt strang devic found expedit present day o...\n",
            "38    henri hill might small time gangster may taken...\n",
            "42    touch tale wayward young man struggl find iden...\n",
            "43                   look histori batman comic franchis\n",
            "45    mcmurphi crimin past gotten troubl sentenc cou...\n",
            "47    base comic book unbeknownst peopl privat agenc...\n",
            "51    late twenti third centuri gala maiden voyag ne...\n",
            "Name: Plot, dtype: object\n"
          ]
        }
      ]
    },
    {
      "cell_type": "code",
      "source": [
        "# usermoviewithplot[\"Plot\"]=usermoviewithplot[\"Plot\"].apply(lambda x : \" \".join([i for i in x]))\n",
        "usermoviewithplot[\"Plot\"]"
      ],
      "metadata": {
        "id": "c1-mQfoJd-rq",
        "colab": {
          "base_uri": "https://localhost:8080/"
        },
        "outputId": "ada8f5af-376c-41bf-ac4a-36aebd466c1b"
      },
      "execution_count": 449,
      "outputs": [
        {
          "output_type": "execute_result",
          "data": {
            "text/plain": [
              "0       luke skywalk han solo princess leia chewbacca ...\n",
              "211     imperi forc order cruel darth vader hold princ...\n",
              "462     forrest gump simpl man low q good intent run c...\n",
              "791     gotham citi crime boss carl grissom jack palan...\n",
              "985     fourth instal mission imposs seri ethan hunt n...\n",
              "1147    six thug stranger hire crime boss joe cabot ca...\n",
              "Name: Plot, dtype: object"
            ]
          },
          "metadata": {},
          "execution_count": 449
        }
      ]
    },
    {
      "cell_type": "code",
      "source": [
        "top_movies_df['Plot']"
      ],
      "metadata": {
        "colab": {
          "base_uri": "https://localhost:8080/"
        },
        "id": "3JB8gDx42C6D",
        "outputId": "b6058178-2c45-4910-cd24-57bdff172671"
      },
      "execution_count": 450,
      "outputs": [
        {
          "output_type": "execute_result",
          "data": {
            "text/plain": [
              "1     william wallac scottish rebel lead upris cruel...\n",
              "3     year pass sinc first machin call termin tri ki...\n",
              "4     oskar schindler vain greedi german businessman...\n",
              "6     base true stori ill fate th apollo mission bou...\n",
              "7     chronicl rise carlo ghosn well intern rivalri ...\n",
              "8     open alli invas normandi june member nd ranger...\n",
              "11    thriller focus rise group influenti power gang...\n",
              "12    luke skywalk battl jabba hutt darth vader save...\n",
              "13    lt john dunbar dub hero accident lead union tr...\n",
              "14    year archeolog professor name indiana jone ven...\n",
              "20    death sometim rd year suburbanit lester burnha...\n",
              "21    brief featur showcas variou cast member discus...\n",
              "23    maximu power roman gener love peopl age empero...\n",
              "28    marti mcfli typic american teenag eighti accid...\n",
              "29    art collector appeal indiana jone embark searc...\n",
              "30    distant futur crew commerci spaceship nostromo...\n",
              "31    year ellen ripley close encount reptilian alie...\n",
              "33    derek vineyard parol serv year prison brutal k...\n",
              "34    egypt strang devic found expedit present day o...\n",
              "38    henri hill might small time gangster may taken...\n",
              "42    touch tale wayward young man struggl find iden...\n",
              "43                   look histori batman comic franchis\n",
              "45    mcmurphi crimin past gotten troubl sentenc cou...\n",
              "47    base comic book unbeknownst peopl privat agenc...\n",
              "51    late twenti third centuri gala maiden voyag ne...\n",
              "Name: Plot, dtype: object"
            ]
          },
          "metadata": {},
          "execution_count": 450
        }
      ]
    },
    {
      "cell_type": "code",
      "source": [
        "from sklearn.feature_extraction.text import TfidfVectorizer\n",
        "from sklearn.metrics.pairwise import cosine_similarity\n",
        "\n",
        "# Create TF-IDF vectorizer\n",
        "vectorizer = TfidfVectorizer()\n",
        "\n",
        "# Fit and transform the plot column in dataset1\n",
        "tfidf_matrix1 = vectorizer.fit_transform(usermoviewithplot[\"Plot\"])\n",
        "\n",
        "# Transform the plot column in dataset2 using the same vectorizer\n",
        "tfidf_matrix2 = vectorizer.transform(top_movies_df['Plot'])\n",
        "\n",
        "# Compute the cosine similarity between each row in tfidf_matrix1 and tfidf_matrix2\n",
        "similarity_matrix = cosine_similarity(tfidf_matrix2, tfidf_matrix1)\n"
      ],
      "metadata": {
        "id": "XJ1-AQq7d-o_"
      },
      "execution_count": 451,
      "outputs": []
    },
    {
      "cell_type": "code",
      "source": [
        "vectorizer.get_feature_names_out()"
      ],
      "metadata": {
        "colab": {
          "base_uri": "https://localhost:8080/"
        },
        "id": "3FHJ3tam0ERF",
        "outputId": "3972aee0-8bdb-4389-f164-56e56598be93"
      },
      "execution_count": 452,
      "outputs": [
        {
          "output_type": "execute_result",
          "data": {
            "text/plain": [
              "array(['access', 'action', 'allianc', 'along', 'although', 'amongst',\n",
              "       'anyon', 'appar', 'armi', 'articl', 'assembl', 'attack', 'attempt',\n",
              "       'backup', 'basing', 'batman', 'beauti', 'beckon', 'begin', 'best',\n",
              "       'billionair', 'bomb', 'boss', 'bruce', 'brutal', 'bubba', 'bumper',\n",
              "       'cabot', 'call', 'captain', 'carl', 'carri', 'caus', 'chase',\n",
              "       'chemic', 'chewbacca', 'childhood', 'choos', 'citi', 'civilian',\n",
              "       'close', 'code', 'companion', 'complet', 'concentr', 'cop',\n",
              "       'craze', 'creat', 'crime', 'cruel', 'curran', 'dagobah', 'damag',\n",
              "       'dan', 'danger', 'dark', 'darth', 'death', 'destini', 'diamond',\n",
              "       'disast', 'disavow', 'donat', 'droid', 'dubai', 'duel', 'duo',\n",
              "       'effect', 'effort', 'empir', 'end', 'entir', 'escap', 'ethan',\n",
              "       'everyday', 'explos', 'face', 'falcon', 'fall', 'fals', 'famou',\n",
              "       'fighter', 'find', 'fish', 'fleet', 'forc', 'form', 'forrest',\n",
              "       'fourth', 'freedom', 'friend', 'gain', 'galact', 'galaxi', 'get',\n",
              "       'ghost', 'given', 'go', 'good', 'gotham', 'grissom', 'group',\n",
              "       'gump', 'han', 'hand', 'help', 'hendrick', 'hire', 'hold',\n",
              "       'hostag', 'hoth', 'howev', 'hunt', 'ice', 'imf', 'imperi',\n",
              "       'implic', 'imposs', 'inspir', 'instal', 'instead', 'intent',\n",
              "       'invok', 'irrelev', 'jack', 'jedi', 'jenni', 'job', 'joe', 'jog',\n",
              "       'join', 'joker', 'justic', 'keaton', 'kill', 'kim', 'kremlin',\n",
              "       'late', 'later', 'launch', 'leav', 'leia', 'life', 'love', 'low',\n",
              "       'luke', 'mama', 'man', 'master', 'meanwhil', 'medal', 'meet',\n",
              "       'member', 'mess', 'michael', 'might', 'millennium', 'mission',\n",
              "       'mumbai', 'name', 'napier', 'new', 'nicholson', 'nuclear', 'offer',\n",
              "       'one', 'order', 'outset', 'palanc', 'panic', 'peopl', 'persona',\n",
              "       'ping', 'plan', 'planet', 'po', 'point', 'polic', 'policemen',\n",
              "       'pong', 'premedit', 'presid', 'princess', 'protocol', 'prove',\n",
              "       'quell', 'race', 'reappear', 'rebel', 'rebellion', 'reign',\n",
              "       'relationship', 'remain', 'rendezv', 'report', 'rescu', 'restor',\n",
              "       'right', 'robberi', 'run', 'russian', 'sane', 'search', 'sequenc',\n",
              "       'seri', 'servic', 'set', 'sever', 'shootout', 'show', 'shrimp',\n",
              "       'side', 'simpl', 'site', 'six', 'skywalk', 'smiley', 'solo',\n",
              "       'song', 'soon', 'spectacular', 'spread', 'start', 'state',\n",
              "       'sticker', 'still', 'stop', 'stranger', 'strike', 'subsequ',\n",
              "       'success', 'sure', 'surviv', 'suspect', 'sweetheart', 'teach',\n",
              "       'team', 'terror', 'terrorist', 'think', 'thug', 'time', 'togeth',\n",
              "       'town', 'track', 'travel', 'two', 'ultim', 'undaunt', 'undercov',\n",
              "       'unit', 'vader', 'vale', 'vat', 'vicki', 'vietnam', 'walker',\n",
              "       'want', 'warehous', 'way', 'wayn', 'win', 'work', 'write', 'yoda'],\n",
              "      dtype=object)"
            ]
          },
          "metadata": {},
          "execution_count": 452
        }
      ]
    },
    {
      "cell_type": "code",
      "source": [
        "print(similarity_matrix)"
      ],
      "metadata": {
        "id": "z6oK1Eg4d-f7",
        "colab": {
          "base_uri": "https://localhost:8080/"
        },
        "outputId": "6f81b704-a8a4-4904-b9da-6b853d5b2400"
      },
      "execution_count": 453,
      "outputs": [
        {
          "output_type": "stream",
          "name": "stdout",
          "text": [
            "[[0.         0.10787587 0.03370469 0.03063065 0.         0.16168575]\n",
            " [0.03423752 0.         0.12464716 0.06580542 0.08092146 0.10847687]\n",
            " [0.         0.         0.06153607 0.05592366 0.         0.07379911]\n",
            " [0.         0.         0.         0.         0.07763763 0.09038508]\n",
            " [0.         0.         0.         0.         0.         0.        ]\n",
            " [0.         0.         0.07286644 0.0307618  0.1356144  0.16468827]\n",
            " [0.         0.         0.1648633  0.         0.0620612  0.15553431]\n",
            " [0.43679793 0.5079229  0.0263355  0.         0.08138787 0.        ]\n",
            " [0.         0.         0.26998661 0.12294548 0.         0.05431377]\n",
            " [0.09349046 0.09984901 0.08337103 0.04741567 0.         0.0748275 ]\n",
            " [0.02301505 0.         0.34024514 0.08129847 0.00758378 0.07368275]\n",
            " [0.         0.         0.         0.         0.         0.12782381]\n",
            " [0.         0.         0.17493302 0.10598547 0.         0.06993135]\n",
            " [0.         0.         0.12963372 0.07963951 0.04326771 0.10291966]\n",
            " [0.13411072 0.         0.07484319 0.05469463 0.         0.        ]\n",
            " [0.         0.         0.16395335 0.         0.01807222 0.10883293]\n",
            " [0.06454724 0.02233588 0.14439543 0.         0.10312971 0.10332409]\n",
            " [0.         0.         0.02386688 0.0973269  0.0857362  0.1849476 ]\n",
            " [0.04520878 0.         0.10497522 0.20507933 0.10813933 0.        ]\n",
            " [0.         0.         0.08590131 0.08904894 0.08051077 0.26465597]\n",
            " [0.         0.         0.11026911 0.0504298  0.         0.09896918]\n",
            " [0.         0.         0.         0.29058785 0.         0.        ]\n",
            " [0.09220558 0.09847674 0.         0.         0.06339086 0.        ]\n",
            " [0.06874251 0.07341789 0.07577648 0.01998334 0.11717187 0.15604793]\n",
            " [0.04975291 0.18324321 0.08480438 0.08430676 0.16553272 0.04631622]]\n"
          ]
        }
      ]
    },
    {
      "cell_type": "code",
      "source": [
        "import numpy as np\n",
        "\n",
        "# your matrix\n",
        "m = np.array(similarity_matrix)\n",
        "\n",
        "# sum the rows\n",
        "row_sums = m.sum(axis=1)\n",
        "\n",
        "# print the row sums\n",
        "row_sums=(row_sums/len(user_input_movies_df))\n",
        "print(row_sums)"
      ],
      "metadata": {
        "id": "BqpjXpfmB1Di",
        "colab": {
          "base_uri": "https://localhost:8080/"
        },
        "outputId": "a01e092e-4846-49b6-c9b1-edfd2d2dbf86"
      },
      "execution_count": 454,
      "outputs": [
        {
          "output_type": "stream",
          "name": "stdout",
          "text": [
            "[0.05564949 0.06901474 0.03187647 0.02800379 0.         0.06732182\n",
            " 0.06374313 0.17540737 0.07454097 0.06649228 0.08763753 0.02130397\n",
            " 0.05847497 0.05924343 0.04394142 0.04847642 0.07295539 0.06531293\n",
            " 0.07723378 0.08668617 0.04327801 0.04843131 0.04234553 0.08519\n",
            " 0.10232603]\n"
          ]
        }
      ]
    },
    {
      "cell_type": "code",
      "source": [
        "top_movies_df[\"Similarity\"]=row_sums"
      ],
      "metadata": {
        "id": "A3O6fZIIb7DP"
      },
      "execution_count": 455,
      "outputs": []
    },
    {
      "cell_type": "code",
      "source": [
        "print(f\"Disliked Genres: {disliked_genres}\")\n",
        "print(f\"Preferred Genres: {preferred_genres}\")"
      ],
      "metadata": {
        "id": "wxAsk4XpRfU0",
        "colab": {
          "base_uri": "https://localhost:8080/"
        },
        "outputId": "60b435dd-a4a5-447b-c7b2-4bc2c82c0a9c"
      },
      "execution_count": 456,
      "outputs": [
        {
          "output_type": "stream",
          "name": "stdout",
          "text": [
            "Disliked Genres: ['Thriller', 'Fantasy', 'Children']\n",
            "Preferred Genres: ['Action', 'Sci-Fi', 'Adventure']\n"
          ]
        }
      ]
    },
    {
      "cell_type": "code",
      "source": [
        "top_movies_df = top_movies_df.sort_values('Similarity', ascending=False)\n",
        "top_movies_df = top_movies_df[:10]\n",
        "recommendation = top_movies_df.loc[:, ['movie_name', 'Similarity', 'predicted_evaluation', 'genres']]\n",
        "print(recommendation)"
      ],
      "metadata": {
        "id": "u5IwujJthZpm",
        "colab": {
          "base_uri": "https://localhost:8080/"
        },
        "outputId": "3634cebc-4c23-4e66-8a8a-83f99ab889b4"
      },
      "execution_count": 457,
      "outputs": [
        {
          "output_type": "stream",
          "name": "stdout",
          "text": [
            "                                    movie_name  Similarity  \\\n",
            "12  Star Wars: Episode VI - Return of the Jedi    0.175407   \n",
            "51                      Star Trek: Generations    0.102326   \n",
            "20                             American Beauty    0.087638   \n",
            "38                                  Goodfellas    0.086686   \n",
            "47                                Men in Black    0.085190   \n",
            "34                                    Stargate    0.077234   \n",
            "13                          Dances with Wolves    0.074541   \n",
            "31                                      Aliens    0.072955   \n",
            "3                   Terminator 2: Judgment Day    0.069015   \n",
            "8                          Saving Private Ryan    0.067322   \n",
            "\n",
            "    predicted_evaluation                          genres  \n",
            "12              1.614812         Action|Adventure|Sci-Fi  \n",
            "51              0.843606          Adventure|Drama|Sci-Fi  \n",
            "20              1.397024                   Drama|Romance  \n",
            "38              1.006211                     Crime|Drama  \n",
            "47              0.921084            Action|Comedy|Sci-Fi  \n",
            "34              1.034503         Action|Adventure|Sci-Fi  \n",
            "13              1.575997         Adventure|Drama|Western  \n",
            "31              1.061218  Action|Adventure|Horror|Sci-Fi  \n",
            "3               2.233135                   Action|Sci-Fi  \n",
            "8               1.898986                Action|Drama|War  \n"
          ]
        }
      ]
    }
  ]
}